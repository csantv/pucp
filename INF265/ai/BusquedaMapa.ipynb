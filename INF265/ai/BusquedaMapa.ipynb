{
 "cells": [
  {
   "cell_type": "markdown",
   "metadata": {},
   "source": [
    "# APLICACIONES EN CIENCIAS DE COMPUTACION\n",
    "Dr. Edwin Villanueva Talavera (ervillanueva@pucp.edu.pe)"
   ]
  },
  {
   "cell_type": "markdown",
   "metadata": {},
   "source": [
    "## Ejemplo de Implementación de algoritmos y heurísticas de busqueda de rutas en Mapas\n",
    "\n",
    "En este notebook se implementa y comparara métodos de busqueda ciega y con información (A*) para buscar rutas en mapas. Abajo puede encontrar la definición de la clase Mapa y una instancia específica con el mapa de Romania que sera usado en las pruebas. \n",
    "\n",
    "<b>Al final de este notebook responder las preguntas. </b>\n"
   ]
  },
  {
   "cell_type": "markdown",
   "metadata": {},
   "source": [
    "### Clase Mapa\n",
    "Estructura para almacenar informacion de un mapa. Tiene dos atributos: <b>neighbors</b> (diccionario que contiene las ciudades vecinas de cada ciudad y las distancias para llegar a ellas) y <b>location</b>, diccionario con las coordenadas X,Y de cada ciudad."
   ]
  },
  {
   "cell_type": "code",
   "execution_count": 1,
   "metadata": {},
   "outputs": [],
   "source": [
    "class Mapa:\n",
    "    def __init__(self, neighbors, location):\n",
    "        self.neighbors = neighbors\n",
    "        self.location = location\n"
   ]
  },
  {
   "cell_type": "markdown",
   "metadata": {},
   "source": [
    "Instancia el mapa especifico de Romania"
   ]
  },
  {
   "cell_type": "code",
   "execution_count": 2,
   "metadata": {},
   "outputs": [],
   "source": [
    "neighbors = {\n",
    " 'A': [('Z',75), ('T',118), ('S',140)],\n",
    " 'B': [('F',211), ('P',101), ('G',90), ('U',85)],\n",
    " 'C': [('D',120), ('R',146), ('P',138)],\n",
    " 'D': [('M',75), ('C',120)],\n",
    " 'E': [('H',86)],\n",
    " 'F': [('S',99), ('B',211)],\n",
    " 'G': [('B',90)],\n",
    " 'H': [('U',98), ('E',86)],\n",
    " 'I': [('N',87), ('V',92)],\n",
    " 'L': [('T',111), ('M',70)],\n",
    " 'M': [('L',70), ('D',75)],\n",
    " 'N': [('I',87)],\n",
    " 'O': [('Z',71), ('S',151)],\n",
    " 'P': [('R',97), ('C',138), ('B',101)],\n",
    " 'R': [('S',80), ('C',146), ('P',97)],\n",
    " 'S': [('A',140), ('O',151), ('F',99), ('R',80)],\n",
    " 'T': [('A',118), ('L',111)],\n",
    " 'U': [('B',85), ('V',142), ('H',98)],\n",
    " 'V': [('U',142), ('I',92)],\n",
    " 'Z': [('O',71), ('A',75)]}\n",
    "\n",
    "location = {\n",
    " 'A': (91, 492),\n",
    " 'B': (400, 327),\n",
    " 'C': (253, 288),\n",
    " 'D': (165, 299),\n",
    " 'E': (562, 293),\n",
    " 'F': (305, 449),\n",
    " 'G': (375, 270),\n",
    " 'H': (534, 350),\n",
    " 'I': (473, 506),\n",
    " 'L': (165, 379),\n",
    " 'M': (168, 339),\n",
    " 'N': (406, 537),\n",
    " 'O': (131, 571),\n",
    " 'P': (320, 368),\n",
    " 'R': (233, 410),\n",
    " 'S': (207, 457),\n",
    " 'T': (94, 410),\n",
    " 'U': (456, 350),\n",
    " 'V': (509, 444),\n",
    " 'Z': (108, 531)}\n",
    "\n",
    "romania = Mapa(neighbors, location)\n"
   ]
  },
  {
   "cell_type": "markdown",
   "metadata": {},
   "source": [
    "### Clase <b>SearchProblem</b>\n",
    "\n",
    "Esta es una clase abstracta para definir problemas de busqueda. Se debe hacer subclases que implementen los metodos de las acciones, resultados, test de objetivo y el costo de camino. Entonces se puede instanciar las subclases y resolverlos con varias funciones de busqueda."
   ]
  },
  {
   "cell_type": "code",
   "execution_count": 3,
   "metadata": {},
   "outputs": [],
   "source": [
    "class SearchProblem(object):\n",
    "    def __init__(self, initial, goal=None):\n",
    "        \"\"\"Este constructor especifica el estado inicial y posiblemente el estado(s) objetivo(s),\n",
    "        La subclase puede añadir mas argumentos.\"\"\"\n",
    "        self.initial = initial\n",
    "        self.goal = goal\n",
    "\n",
    "    def actions(self, state):\n",
    "        \"\"\"Retorna las acciones que pueden ser ejecutadas en el estado dado.\n",
    "        El resultado es tipicamente una lista.\"\"\"\n",
    "        raise NotImplementedError\n",
    "\n",
    "    def result(self, state, action):\n",
    "        \"\"\"Retorna el estado que resulta de ejecutar la accion dada en el estado state.\n",
    "        La accion debe ser alguna de self.actions(state).\"\"\"\n",
    "        raise NotImplementedError\n",
    "\n",
    "    def goal_test(self, state):\n",
    "        \"\"\"Retorna True si el estado pasado satisface el objetivo.\"\"\"\n",
    "        raise NotImplementedError\n",
    "\n",
    "    def path_cost(self, c, state1, action, state2):\n",
    "        \"\"\"Retorna el costo del camino de state2 viniendo de state1 con \n",
    "        la accion action, asumiendo un costo c para llegar hasta state1. \n",
    "        El metodo por defecto cuesta 1 para cada paso en el camino.\"\"\"\n",
    "        return c + 1\n",
    "\n",
    "    def value(self, state):\n",
    "        \"\"\"En problemas de optimizacion, cada estado tiene un valor. Algoritmos\n",
    "        como Hill-climbing intentan maximizar este valor.\"\"\"\n",
    "        raise NotImplementedError"
   ]
  },
  {
   "cell_type": "markdown",
   "metadata": {},
   "source": [
    "###  <b> Clase MapSearchProblem </b>  \n",
    "Esta es una subclase de SearchProblem donde se define concretamente el problema de busqueda en mapa. El constructor recibe el estado inicial, objetivo y un mapa. "
   ]
  },
  {
   "cell_type": "code",
   "execution_count": 4,
   "metadata": {},
   "outputs": [],
   "source": [
    "class MapSearchProblem(SearchProblem):\n",
    "    def __init__(self, initial, goal, mapa):\n",
    "        \"\"\"El constructor recibe  el estado inicial, el estado objetivo y un mapa (de clase Mapa)\"\"\"\n",
    "        self.initial = initial\n",
    "        self.goal = goal\n",
    "        self.map = mapa\n",
    "\n",
    "    def actions(self, state):\n",
    "        \"\"\"Retorna las acciones ejecutables desde ciudad state.\n",
    "        El resultado es una lista de strings tipo 'goCity'. \n",
    "        Por ejemplo, en el mapa de Romania, las acciones desde Arad serian:\n",
    "         ['goZerind', 'goTimisoara', 'goSibiu']\"\"\"\n",
    "        neighbors = []\n",
    "        acciones = []\n",
    "        tupla = ()\n",
    "        neighbors = self.map.neighbors[state]\n",
    "        for acc in range(len(neighbors)):\n",
    "            acciones.append('go' + neighbors[acc][0])\n",
    "        return acciones\n",
    "\n",
    "    def result(self, state, action):\n",
    "        \"\"\"Retorna el estado que resulta de ejecutar la accion dada desde ciudad state.\n",
    "        La accion debe ser alguna de self.actions(state)\n",
    "        Por ejemplo, en el mapa de Romania, el resultado de aplicar la accion 'goZerind' \n",
    "        desde el estado 'Arad' seria 'Zerind'\"\"\"  \n",
    "        newState = action[2]   #el ultimo caracter de la accion es el nombre de la ciudad destino\n",
    "        return newState\n",
    "        \n",
    "    def goal_test(self, state):\n",
    "        \"\"\"Retorna True si state es self.goal\"\"\"\n",
    "        return (self.goal == state) \n",
    "\n",
    "    def path_cost(self, c, state1, action, state2):\n",
    "        \"\"\"Retorna el costo del camino de state2 viniendo de state1 con la accion action \n",
    "        El costo del camino para llegar a state1 es c. El costo de la accion debe ser\n",
    "        extraido de self.map.\"\"\"\n",
    "        actionCost = 0;\n",
    "        destStates = self.map.neighbors[state1] #estado destino, state2\n",
    "        for acc in range(len(destStates)):\n",
    "            if (destStates[acc][0] == state2):\n",
    "                actionCost = destStates[acc][1]\n",
    "                break\n",
    "        return c + actionCost;"
   ]
  },
  {
   "cell_type": "markdown",
   "metadata": {},
   "source": [
    "### Clase <b>Node</b>\n",
    "\n",
    "Estructura de datos para almacenar la informacion de un nodo en un <b>arbol de busqueda</b>. Contiene información del nodo padre y el estado que representa el nodo. Tambien incluye la accion que nos llevo al presente nodo y el costo total del camino desde el nodo raiz hasta este nodo."
   ]
  },
  {
   "cell_type": "code",
   "execution_count": 5,
   "metadata": {},
   "outputs": [],
   "source": [
    "class Node:\n",
    "    def __init__(self, state, parent=None, action=None, path_cost=0):\n",
    "        \"Crea un nodo de arbol de busqueda, derivado del nodo parent y accion action\"\n",
    "        self.state = state\n",
    "        self.parent = parent\n",
    "        self.action = action\n",
    "        self.path_cost = path_cost\n",
    "        self.depth = 0\n",
    "        if parent:\n",
    "            self.depth = parent.depth + 1\n",
    "\n",
    "    def expand(self, problem):\n",
    "        \"Devuelve los nodos alcanzables en un paso a partir de este nodo.\"\n",
    "        return [self.child_node(problem, action)\n",
    "                for action in problem.actions(self.state)]\n",
    "\n",
    "    def child_node(self, problem, action):\n",
    "        next = problem.result(self.state, action)\n",
    "        return Node(next, self, action,\n",
    "                    problem.path_cost(self.path_cost, self.state, action, next))\n",
    "\n",
    "    def solution(self):\n",
    "        \"Retorna la secuencia de acciones para ir de la raiz a este nodo.\"\n",
    "        return [node.action for node in self.path()[1:]]\n",
    "\n",
    "    def path(self):\n",
    "        \"Retorna una lista de nodos formando un camino de la raiz a este nodo.\"\n",
    "        node, path_back = self, []\n",
    "        while node:\n",
    "            path_back.append(node)\n",
    "            node = node.parent\n",
    "        return list(reversed(path_back))\n",
    "    \n",
    "    def __eq__(self, other): \n",
    "        \"Este metodo se ejecuta cuando se compara nodos. Devuelve True cuando los estados son iguales\"\n",
    "        \"(representan el mismo estado)\"\n",
    "        return isinstance(other, Node) and self.state == other.state"
   ]
  },
  {
   "cell_type": "markdown",
   "metadata": {},
   "source": [
    "### <b> Frontera tipo cola FIFO (first-in first out) para BFS</b> "
   ]
  },
  {
   "cell_type": "code",
   "execution_count": 6,
   "metadata": {},
   "outputs": [],
   "source": [
    "from collections import deque\n",
    "\n",
    "class FIFOQueue(deque):\n",
    "    \"\"\"Una cola First-In-First-Out\"\"\"\n",
    "    def pop(self):\n",
    "        return self.popleft()"
   ]
  },
  {
   "cell_type": "markdown",
   "metadata": {},
   "source": [
    "### <b> Frontera tipo cola de prioridad ordenada por una funcion de costo (para best_first_graph_search y A*)</b> "
   ]
  },
  {
   "cell_type": "code",
   "execution_count": 7,
   "metadata": {},
   "outputs": [],
   "source": [
    "import heapq\n",
    "class FrontierPQ:\n",
    "    \"Una Frontera ordenada por una funcion de costo (Priority Queue)\"\n",
    "    \n",
    "    def __init__(self, initial, costfn=lambda node: node.path_cost):\n",
    "        \"Inicializa la Frontera con un nodo inicial y una funcion de costo especificada\" \n",
    "        \"(por defecto es el costo de camino).\"\n",
    "        self.heap   = []\n",
    "        self.states = {}\n",
    "        self.costfn = costfn\n",
    "        self.add(initial)\n",
    "    \n",
    "    def add(self, node):\n",
    "        \"Agrega un nodo a la frontera.\"\n",
    "        cost = self.costfn(node)\n",
    "        heapq.heappush(self.heap, (cost, node))\n",
    "        self.states[node.state] = node\n",
    "        \n",
    "    def pop(self):\n",
    "        \"Remueve y retorna el nodo con minimo costo.\"\n",
    "        (cost, node) = heapq.heappop(self.heap)\n",
    "        self.states.pop(node.state, None) # remove state\n",
    "        return node\n",
    "    \n",
    "    def replace(self, node):\n",
    "        \"node reemplaza al nodo de la Fontera que tiene el mismo estado que node.\"\n",
    "        if node.state not in self:\n",
    "            raise ValueError('{} no tiene nada que reemplazar'.format(node.state))\n",
    "        for (i, (cost, old_node)) in enumerate(self.heap):\n",
    "            if old_node.state == node.state:\n",
    "                self.heap[i] = (self.costfn(node), node)\n",
    "                heapq._siftdown(self.heap, 0, i)\n",
    "                return\n",
    "\n",
    "    def __contains__(self, state): return state in self.states\n",
    "    \n",
    "    def __len__(self): return len(self.heap)"
   ]
  },
  {
   "cell_type": "markdown",
   "metadata": {},
   "source": [
    "### <b>Algoritmo general de búsqueda ciega con memoria de estados visitados (Graph Search)</b>\n",
    "\n",
    "Algoritmo de general de busqueda ciega con memoria de estados visitados. El argumento frontier debe ser una cola vacia. Si la frontera es tipo FIFO hace busqueda en amplitud (BFS), si la frontera es una pila hará busqueda en profundidad (DFS)"
   ]
  },
  {
   "cell_type": "code",
   "execution_count": 8,
   "metadata": {},
   "outputs": [],
   "source": [
    "def graph_search(problem, frontier):\n",
    "    frontier.append(Node(problem.initial))\n",
    "    explored = set()     # memoria de estados visitados\n",
    "    expanded_nodes = 0   # contador de nodos expandidos\n",
    "    while frontier:\n",
    "        node = frontier.pop()\n",
    "        if problem.goal_test(node.state):\n",
    "            return node, expanded_nodes\n",
    "        explored.add(node.state)\n",
    "        expanded_nodes = expanded_nodes + 1\n",
    "        frontier.extend(child for child in node.expand(problem)\n",
    "                        if child.state not in explored and\n",
    "                        child not in frontier)\n",
    "    return None"
   ]
  },
  {
   "cell_type": "markdown",
   "metadata": {},
   "source": [
    "### <b> Algoritmo de Busqueda por la mejor opción: Best-First-Graph-Search </b> \n",
    "Algoritmo general de busqueda con información. La frontera es una cola de prioridad ordenada por la funcion de evaluacion f "
   ]
  },
  {
   "cell_type": "code",
   "execution_count": 9,
   "metadata": {},
   "outputs": [],
   "source": [
    "def best_first_graph_search(problem, f):\n",
    "    \"\"\"Busca el objetivo expandiendo el nodo de la frontera con el menor valor de la funcion f. Memoriza estados visitados\n",
    "    Antes de llamar a este algoritmo hay que especificar La funcion f(node). Si f es node.depth tenemos Busqueda en Amplitud; \n",
    "    si f es node.path_cost tenemos Busqueda  de Costo Uniforme. Si f es una heurística tenemos Busqueda Voraz;\n",
    "    Si f es node.path_cost + heuristica(node) tenemos A* \"\"\"\n",
    "\n",
    "    frontier = FrontierPQ( Node(problem.initial), f )  # frontera tipo cola de prioridad ordenada por f\n",
    "    explored = set()     # memoria de estados visitados\n",
    "    expanded_nodes = 0   # contador de nodos expandidos\n",
    "    while frontier:\n",
    "        node = frontier.pop()\n",
    "        if problem.goal_test(node.state):\n",
    "            return node, expanded_nodes\n",
    "        explored.add(node.state)\n",
    "        expanded_nodes = expanded_nodes + 1\n",
    "        for action in problem.actions(node.state):\n",
    "            child = node.child_node(problem, action)\n",
    "            if child.state not in explored and child.state not in frontier:\n",
    "                frontier.add(child)\n",
    "            elif child.state in frontier:\n",
    "                incumbent = frontier.states[child.state] \n",
    "                if f(child) < f(incumbent):\n",
    "                    frontier.replace(child)"
   ]
  },
  {
   "cell_type": "markdown",
   "metadata": {},
   "source": [
    "### <b> Algoritmo A* </b> \n",
    "A* es un caso especial de best_first_graph_search con f = path_cost + heuristic"
   ]
  },
  {
   "cell_type": "code",
   "execution_count": 10,
   "metadata": {},
   "outputs": [],
   "source": [
    "def astar_search(problem, heuristic):\n",
    "    f = lambda node: node.path_cost + heuristic(node, problem)\n",
    "    return best_first_graph_search(problem, f)\n"
   ]
  },
  {
   "cell_type": "markdown",
   "metadata": {},
   "source": [
    "### <b> Heurísticas para A* </b> \n",
    "Se debe implementar las heurísticas abajo para A* "
   ]
  },
  {
   "cell_type": "code",
   "execution_count": 11,
   "metadata": {},
   "outputs": [],
   "source": [
    "import math\n",
    "\n",
    "def nullheuristic(node, problem):  # heurística nula (A* se convierte en busqueda de costo uniforme)\n",
    "    return 0\n",
    "\n",
    "def h1(node, problem):\n",
    "    \"Distancia en linea recta desde la posicion de node hasta la posicion del Objetivo (problem.goal)\"\n",
    "    loc_node = problem.map.location[node.state]\n",
    "    loc_goal = problem.map.location[problem.goal]\n",
    "    return math.sqrt( math.pow(loc_goal[0] - loc_node[0], 2) + math.pow(loc_goal[1] - loc_node[1], 2) )\n",
    "\n"
   ]
  },
  {
   "cell_type": "markdown",
   "metadata": {},
   "source": [
    "### <b> Probando los algoritmos de Busqueda</b> \n"
   ]
  },
  {
   "cell_type": "code",
   "execution_count": 12,
   "metadata": {},
   "outputs": [
    {
     "name": "stdout",
     "output_type": "stream",
     "text": [
      "Solucion obtenida con BFS: ['goS', 'goF', 'goB']. Nodos expandidos = 9\n",
      "Solucion obtenida con DFS: ['goS', 'goR', 'goP', 'goB']. Nodos expandidos = 4\n",
      "Solucion obtenida con A* y heuristica nula (UCS): ['goS', 'goR', 'goP', 'goB']. Nodos expandidos = 12\n",
      "Solucion obtenida con A* y heuristica h1: ['goS', 'goR', 'goP', 'goB']. Nodos expandidos = 5\n"
     ]
    }
   ],
   "source": [
    "p = MapSearchProblem('A', 'B', romania)   # problema de busqueda de ruta de Arad a Bucharest\n",
    "\n",
    "node, num_exp_nodes = graph_search(p, FIFOQueue())\n",
    "print( 'Solucion obtenida con BFS: {}. Nodos expandidos = {}'.format(node.solution(), num_exp_nodes) )\n",
    "\n",
    "node, num_exp_nodes = graph_search(p, [])\n",
    "print( 'Solucion obtenida con DFS: {}. Nodos expandidos = {}'.format(node.solution(), num_exp_nodes) )\n",
    "\n",
    "node, num_exp_nodes = astar_search(p, nullheuristic)\n",
    "print( 'Solucion obtenida con A* y heuristica nula (UCS): {}. Nodos expandidos = {}'.format(node.solution(), num_exp_nodes) )\n",
    "\n",
    "node, num_exp_nodes = astar_search(p, h1)\n",
    "print( 'Solucion obtenida con A* y heuristica h1: {}. Nodos expandidos = {}'.format(node.solution(), num_exp_nodes) )\n"
   ]
  }
 ],
 "metadata": {
  "kernelspec": {
   "display_name": "Python 3",
   "language": "python",
   "name": "python3"
  },
  "language_info": {
   "codemirror_mode": {
    "name": "ipython",
    "version": 3
   },
   "file_extension": ".py",
   "mimetype": "text/x-python",
   "name": "python",
   "nbconvert_exporter": "python",
   "pygments_lexer": "ipython3",
   "version": "3.8.6"
  }
 },
 "nbformat": 4,
 "nbformat_minor": 4
}
