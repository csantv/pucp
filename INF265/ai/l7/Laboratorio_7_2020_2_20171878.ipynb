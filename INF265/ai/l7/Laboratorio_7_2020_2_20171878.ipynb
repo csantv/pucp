{
 "cells": [
  {
   "cell_type": "markdown",
   "metadata": {
    "id": "wFGHDge1q4gz"
   },
   "source": [
    "# APLICACIONES EN CIENCIAS DE COMPUTACION"
   ]
  },
  {
   "cell_type": "markdown",
   "metadata": {
    "id": "Wk2dv1Rzq4g2"
   },
   "source": [
    "## Laboratorio 3:  Busqueda en Laberintos\n",
    "\n",
    "La tarea de este laboratorio consiste en comparar los dos métodos principales de busqueda ciega para buscar caminos en un laberinto. La clase MazeSearchProblem necesita ser completada (metodos actions y result). Después de implementar ello pruebe las implementaciones con el laberinto maze3.txt. Al final de este notebook estan las preguntas que seran evaluadas en este laboratorio. \n",
    "\n",
    "# ***Usted deberá completar el código en las secciones indicadas con \"COMPLETAR\"***\n"
   ]
  },
  {
   "cell_type": "markdown",
   "metadata": {
    "id": "saqzg67Tq4g3"
   },
   "source": [
    "### Clase <b>Maze</b>\n",
    "La clase Maze es representada por una matriz (grid) de espacios, los cuales pueden estar libres o bloqueados. Cada celda del grid puede tener uno de los siguientes carateres:\n",
    "\n",
    "    '#': Indica una celda con obstaculo  (impasable) \n",
    "    '~': Indica una celda con agua (pasable, con costo 7)\n",
    "    ' ': Celda vacia (passable con costo 2)\n",
    "    'S': Indicate la celda de inicio\n",
    "    'E': Indicates la celda de salida "
   ]
  },
  {
   "cell_type": "code",
   "execution_count": 1,
   "metadata": {
    "id": "hG2ZKq4Jq4g5"
   },
   "outputs": [],
   "source": [
    "# ESTA CELDA NO NECESITA SER MODIFICADA\n",
    "\n",
    "class Maze:\n",
    "\n",
    "    def __init__(self, grid):\n",
    "        \"\"\" Construye el maze a partir del grid pasado\n",
    "            grid: debe ser una matriz (lista de listas), ejemplo [['#','S',' '],['#',' ','E']]  \"\"\"\n",
    "        self.grid = grid\n",
    "        self.numRows = len(grid)\n",
    "        self.numCols = len(grid[0])\n",
    "        for i in range(self.numRows):\n",
    "            for j in range(self.numCols):\n",
    "                if len(grid[i]) != self.numCols:\n",
    "                    raise \"Grid no es Rectangular\"\n",
    "                if grid[i][j] == 'S':\n",
    "                    self.startCell = (i,j)\n",
    "                if grid[i][j] == 'E':\n",
    "                    self.exitCell= (i,j)\n",
    "        if self.exitCell == None:\n",
    "            raise \"No hay celda de Inicio\"\n",
    "        if self.startCell == None:\n",
    "            raise \"No hay celda de salida\"\n",
    "   \n",
    "    def isPassable(self, row, col):\n",
    "        \"\"\" Retorna true si la celda (row,col) es pasable  (' ' o '~') \"\"\"\n",
    "        return self.isWater(row, col) or self.isClear(row, col)   \n",
    "\n",
    "    def isWater(self, row, col):\n",
    "        \"\"\" Retorna true si la celda (row,col) tiene agua  ('~') \"\"\"\n",
    "        return self.grid[row][col] == '~'\n",
    "    \n",
    "    def isClear(self, row, col):\n",
    "        \"\"\" Retorna true si la celda (row,col) esta vacia  (' ') \"\"\"\n",
    "        return self.grid[row][col] == ' '\n",
    "    \n",
    "    def isBlocked(self, row,col):\n",
    "        \"\"\" Retorna true si la celda (row,col) tiene obstaculo ('#') \"\"\"\n",
    "        return self.grid[row][col] == '#'   \n",
    "        \n",
    "    def getNumRows(self):\n",
    "        \"\"\" Retorna el numero de filas en el maze \"\"\"\n",
    "        return self.numRows\n",
    "  \n",
    "    def getNumCols(self):\n",
    "        \"\"\" Retorna el numero de columnas en el maze \"\"\"\n",
    "        return self.numCols  \n",
    "   \n",
    "    def getStartCell(self):\n",
    "        \"\"\" Retorna la posicion (row,col) de la celda de inicio \"\"\"\n",
    "        return self.startCell\n",
    "  \n",
    "    def getExitCell(self):\n",
    "        \"\"\" Retorna la posicion (row,col) de la celda de salida \"\"\"\n",
    "        return self.exitCell\n",
    "\n",
    "    def __getAsciiString(self):\n",
    "        \"\"\" Retorna el string de vizualizacion del maze \"\"\"\n",
    "        lines = []\n",
    "        headerLine = ' ' + ('-' * (self.numCols)) + ' '\n",
    "        lines.append(headerLine)\n",
    "        for row in self.grid:\n",
    "            rowLine = '|' + ''.join(row) + '|'\n",
    "            lines.append(rowLine)\n",
    "        lines.append(headerLine)\n",
    "        return '\\n'.join(lines)\n",
    "\n",
    "    def __str__(self):\n",
    "        return self.__getAsciiString()"
   ]
  },
  {
   "cell_type": "markdown",
   "metadata": {
    "id": "veG_ovgSq4g_"
   },
   "source": [
    "### Funcion para cargar una laberinto de archivo de disco"
   ]
  },
  {
   "cell_type": "code",
   "execution_count": 2,
   "metadata": {
    "id": "kc9MTh_sq4hB"
   },
   "outputs": [],
   "source": [
    "# ESTA CELDA NO NECESITA SER MODIFICADA\n",
    "def readMazeFromFile(file):\n",
    "    \"\"\" Lee un archivo que contiene un laberinto y retorna una instancia de Maze con dicho laberinto\"\"\"\n",
    "    fin = open(file)\n",
    "    lines = fin.read().splitlines()\n",
    "    grid = []\n",
    "    for line in lines: \n",
    "        grid.append(list(line))\n",
    "    return Maze(grid)"
   ]
  },
  {
   "cell_type": "markdown",
   "metadata": {
    "id": "fIocqccGq4hH"
   },
   "source": [
    "### Clase <b>SearchProblem</b>\n",
    "\n",
    "Esta es una clase abstracta para definir problemas de busqueda. Se debe hacer subclases que implementen los metodos de las acciones, resultados, test de objetivo y el costo de camino. Entonces se puede instanciar las subclases y resolverlos con varias funciones de busqueda."
   ]
  },
  {
   "cell_type": "code",
   "execution_count": 3,
   "metadata": {
    "id": "Ix26qwRnq4hK"
   },
   "outputs": [],
   "source": [
    "# ESTA CELDA NO NECESITA SER MODIFICADA\n",
    "class SearchProblem(object):\n",
    "    def __init__(self, initial, goal=None):\n",
    "        \"\"\"Este constructor especifica el estado inicial y posiblemente el estado(s) objetivo(s),\n",
    "        La subclase puede añadir mas argumentos.\"\"\"\n",
    "        self.initial = initial\n",
    "        self.goal = goal\n",
    "\n",
    "    def actions(self, state):\n",
    "        \"\"\"Retorna las acciones que pueden ser ejecutadas en el estado dado.\n",
    "        El resultado es tipicamente una lista.\"\"\"\n",
    "        raise NotImplementedError\n",
    "\n",
    "    def result(self, state, action):\n",
    "        \"\"\"Retorna el estado que resulta de ejecutar la accion dada en el estado state.\n",
    "        La accion debe ser alguna de self.actions(state).\"\"\"\n",
    "        raise NotImplementedError\n",
    "\n",
    "    def goal_test(self, state):\n",
    "        \"\"\"Retorna True si el estado pasado satisface el objetivo.\"\"\"\n",
    "        raise NotImplementedError\n",
    "\n",
    "    def path_cost(self, c, state1, action, state2):\n",
    "        \"\"\"Retorna el costo del camino de state2 viniendo de state1 con \n",
    "        la accion action, asumiendo un costo c para llegar hasta state1. \n",
    "        El metodo por defecto cuesta 1 para cada paso en el camino.\"\"\"\n",
    "        return c + 1"
   ]
  },
  {
   "cell_type": "markdown",
   "metadata": {
    "id": "JcMTkTJ2q4hQ"
   },
   "source": [
    "###  <b> Clase MazeSearchProblem </b>  \n",
    "Esta es una subclase de SearchProblem que implementa concretamente el problema de busqueda en laberinto. El constructor recibe el laberinto en un objeto maze. Cada estado es codificado como una tupla (row,col) representando la posicion de una celda del grid. El estado inicial es la celda de inicio y el único estado objetivo es la celda de salida.\n",
    "###  <b>  </b>  \n",
    " **Se necesita completar Actions (acciones legales para un estado dado - Considerar las acciones  'N', 'S', 'W', 'E') y result (qué hacen las acciones).**"
   ]
  },
  {
   "cell_type": "code",
   "execution_count": 5,
   "metadata": {
    "id": "zHnslRtFq4hR"
   },
   "outputs": [],
   "source": [
    "# ESTA CELDA REQUIERE COMPLETAR CÓDIGO DONDE SE INDIQUE \"COMPLETAR\"\n",
    "class MazeSearchProblem(SearchProblem):\n",
    "    def __init__(self, maze):\n",
    "        \"\"\"El constructor recibe el maze\"\"\"\n",
    "        self.maze = maze\n",
    "        self.initial = maze.getStartCell()\n",
    "        self.goal = maze.getExitCell()\n",
    "        self.numNodesExpanded = 0        \n",
    "        self.expandedNodeSet = {}   \n",
    "        \n",
    "    def __isValidState(self,state):\n",
    "        \"\"\" Retorna true si el estado dado corresponde a una celda no bloqueada valida \"\"\"\n",
    "        row,col = state\n",
    "        if row < 0 or row >= self.maze.getNumRows():\n",
    "            return False\n",
    "        if col < 0 or col >= self.maze.getNumCols():\n",
    "            return False\n",
    "        return not self.maze.isBlocked(row,col)        \n",
    "\n",
    "    def actions(self, state):\n",
    "        \"\"\"Retorna las acciones legales desde la celda actual \"\"\"\n",
    "        row,col = state\n",
    "        acciones = []\n",
    "        if self.__isValidState((row-1, col)):\n",
    "            acciones.append('N')\n",
    "\n",
    "        ## COMPLETAR\n",
    "        # verificar que no nos pasemos de los bordes\n",
    "        if self.__isValidState((row+1, col)):\n",
    "            acciones.append('S')\n",
    "        if self.__isValidState((row, col + 1)):\n",
    "            acciones.append('E')\n",
    "        if self.__isValidState((row, col - 1)):\n",
    "            acciones.append('W')\n",
    "        ## FIN DE SU CÓDIGO AÑADIDO\n",
    "            \n",
    "        return acciones\n",
    "    \n",
    "    def result(self, state, action):\n",
    "        \"\"\"Retorna el estado que resulta de ejecutar la accion dada desde la celda actual.\n",
    "        La accion debe ser alguna de self.actions(state)\"\"\"  \n",
    "        row,col = state\n",
    "        newState = ()\n",
    "        if action == 'N':\n",
    "            newState = (row-1, col)\n",
    "\n",
    "        ## COMPLETAR\n",
    "        if action == 'S':\n",
    "            newState = (row+1, col)\n",
    "        if action == 'E':\n",
    "            newState = (row, col+1)\n",
    "        if action == 'W':\n",
    "            newState = (row, col-1)\n",
    "        ## FIN DE SU CÓDIGO AÑADIDO\n",
    "\n",
    "        return newState\n",
    "        \n",
    "    def goal_test(self, state):\n",
    "        \"\"\"Retorna True si state es self.goal\"\"\"\n",
    "        return (self.goal == state) \n",
    "\n",
    "    def path_cost(self, c, state1, action, state2):\n",
    "        \"\"\"Retorna el costo del camino de state2 viniendo de state1 con la accion action \n",
    "        El costo del camino para llegar a state1 es c. El costo de la accion sale de self.maze \"\"\"\n",
    "        row, col = state2\n",
    "        if self.maze.isClear(row, col):\n",
    "            actionCost =   2\n",
    "        elif self.maze.isWater(row, col):\n",
    "            actionCost =   7\n",
    "        elif state2 == self.maze.getStartCell() or state2 == self.maze.getExitCell():\n",
    "            actionCost = 1\n",
    "        else:\n",
    "            raise \"El costo de una celda bloqueada no esta definido\" \n",
    "        return c + actionCost"
   ]
  },
  {
   "cell_type": "markdown",
   "metadata": {
    "id": "iRkaAWxNq4hU"
   },
   "source": [
    "### Clase <b>Node</b>\n",
    "\n",
    "Estructura de datos para almacenar la informacion de un nodo en un <b>arbol de busqueda</b>. Contiene información del nodo padre y el estado que representa el nodo. Tambien incluye la accion que nos llevo al presente nodo y el costo total del camino desde el nodo raiz hasta este nodo."
   ]
  },
  {
   "cell_type": "code",
   "execution_count": 6,
   "metadata": {
    "id": "u4iDAiKtq4hV"
   },
   "outputs": [],
   "source": [
    "# ESTA CELDA NO NECESITA SER MODIFICADA\n",
    "class Node:\n",
    "    def __init__(self, state, parent=None, action=None, path_cost=0):\n",
    "        \"Crea un nodo de arbol de busqueda, derivado del nodo parent y accion action\"\n",
    "        self.state = state\n",
    "        self.parent = parent\n",
    "        self.action = action\n",
    "        self.path_cost = path_cost\n",
    "        self.depth = 0\n",
    "        if parent:\n",
    "            self.depth = parent.depth + 1\n",
    "\n",
    "    def expand(self, problem):\n",
    "        \"Devuelve los nodos alcanzables en un paso a partir de este nodo.\"\n",
    "        return [self.child_node(problem, action)\n",
    "                for action in problem.actions(self.state)]\n",
    "\n",
    "    def child_node(self, problem, action):\n",
    "        next = problem.result(self.state, action)\n",
    "        return Node(next, self, action,\n",
    "                    problem.path_cost(self.path_cost, self.state, action, next))\n",
    "\n",
    "    def solution(self):\n",
    "        \"Retorna la secuencia de acciones para ir de la raiz a este nodo.\"\n",
    "        return [node.action for node in self.path()[1:]]\n",
    "\n",
    "    def path(self):\n",
    "        \"Retorna una lista de nodos formando un camino de la raiz a este nodo.\"\n",
    "        node, path_back = self, []\n",
    "        while node:\n",
    "            path_back.append(node)\n",
    "            node = node.parent\n",
    "        return list(reversed(path_back))\n",
    "    \n",
    "    def __lt__(self, node):\n",
    "        return self.state < node.state\n",
    "    \n",
    "    def __eq__(self, other): \n",
    "        \"Este metodo se ejecuta cuando se compara nodos. Devuelve True cuando los estados son iguales\"\n",
    "        return isinstance(other, Node) and self.state == other.state\n",
    "    \n",
    "    def __repr__(self):\n",
    "        return \"<Node {}>\".format(self.state)\n",
    "    \n",
    "    def __hash__(self):\n",
    "        return hash(self.state)"
   ]
  },
  {
   "cell_type": "markdown",
   "metadata": {
    "id": "-z1VHl3Pq4hY"
   },
   "source": [
    "### <b> Frontera tipo cola FIFO (first-in first out)</b> "
   ]
  },
  {
   "cell_type": "code",
   "execution_count": 7,
   "metadata": {
    "id": "YANBIXmXq4hZ"
   },
   "outputs": [],
   "source": [
    "# ESTA CELDA NO NECESITA SER MODIFICADA\n",
    "from collections import deque\n",
    "\n",
    "class FIFOQueue(deque):\n",
    "    \"\"\"Una cola First-In-First-Out\"\"\"\n",
    "    def pop(self):\n",
    "        return self.popleft()"
   ]
  },
  {
   "cell_type": "markdown",
   "metadata": {
    "id": "aJNeW471q4hi"
   },
   "source": [
    "### <b>Algoritmo general de búsqueda con memoria de nodos expandidos (Graph Search)</b>\n",
    "\n",
    "Algoritmo de general de busqueda ciega con memoria de estados visitados. El argumento frontier debe ser una cola vacia. Si la frontera es tipo FIFO hace busqueda en amplitud (BFS), si la frontera es una pila hará busqueda en profundidad (DFS)"
   ]
  },
  {
   "cell_type": "code",
   "execution_count": 8,
   "metadata": {
    "id": "1O8dyg_zq4hk"
   },
   "outputs": [],
   "source": [
    "# ESTA CELDA NO NECESITA SER MODIFICADA\n",
    "def graph_search(problem, frontier):\n",
    "    frontier.append(Node(problem.initial))\n",
    "    explored = set()     # memoria de estados visitados\n",
    "    visited_nodes = []   # almacena nodos visitados durante la busqueda\n",
    "    while frontier:\n",
    "        node = frontier.pop()\n",
    "        visited_nodes.append(node)\n",
    "        if problem.goal_test(node.state):\n",
    "            return node, visited_nodes\n",
    "        explored.add(node.state)\n",
    "        \n",
    "        frontier.extend(child for child in node.expand(problem)\n",
    "                        if child.state not in explored and\n",
    "                        child not in frontier)\n",
    "    return None"
   ]
  },
  {
   "cell_type": "markdown",
   "metadata": {
    "id": "8qRUfV3-q4h6"
   },
   "source": [
    "### <b> Funcion para mostrar los resultados </b> "
   ]
  },
  {
   "cell_type": "code",
   "execution_count": 9,
   "metadata": {
    "id": "7ep8bOabq4h7"
   },
   "outputs": [],
   "source": [
    "# ESTA CELDA NO NECESITA SER MODIFICADA\n",
    "def displayResults(maze, visitedNodes, solutionNodes):\n",
    "    \"\"\" Muestra los resultados de busqueda en el maze.   \"\"\"\n",
    "    grid_copy = []\n",
    "    for row in maze.grid:\n",
    "        grid_copy.append([x for x in row]) \n",
    "    for node in visitedNodes:\n",
    "        row,col = node.state\n",
    "        ch = maze.grid[row][col]\n",
    "        if ch != 'S' and ch != 'E': grid_copy[row][col] = 'o' \n",
    "    for node in solutionNodes:  \n",
    "        row,col = node.state\n",
    "        ch = maze.grid[row][col]\n",
    "        if ch != 'S' and ch != 'E': grid_copy[row][col] = 'x'    \n",
    "    maze_copy = Maze(grid_copy)\n",
    "    print (maze_copy)\n",
    "    print (\"x - celdas en la solucion\")\n",
    "    print (\"o - celdas visitadas durante la busqueda\")\n",
    "    print (\"-------------------------------\")"
   ]
  },
  {
   "cell_type": "markdown",
   "metadata": {
    "id": "xhQdPpzSq4h-"
   },
   "source": [
    "## <b> Experimentación con los algoritmos de Busqueda</b> \n"
   ]
  },
  {
   "cell_type": "code",
   "execution_count": 10,
   "metadata": {
    "colab": {
     "base_uri": "https://localhost:8080/"
    },
    "id": "O2aMuaFCq4h-",
    "outputId": "909ab563-c637-4b9a-c1bc-c78bcfdcf5a1"
   },
   "outputs": [
    {
     "name": "stdout",
     "output_type": "stream",
     "text": [
      " ------------------- \n",
      "|~~~~S~~~~~~~~~~~~~~|\n",
      "|~~~~~~~~~~~~~~~~~~~|\n",
      "|~~~~~          ~~~~|\n",
      "|~~~~            ~~~|\n",
      "|########   ~~~~~~~~|\n",
      "|             ######|\n",
      "|      #      #~~~~~|\n",
      "|###### # #####~~~~~|\n",
      "|     # #      ~~~~~|\n",
      "| # # ###### ####~~~|\n",
      "| #          #~~~~~~|\n",
      "|     ### ####~~~~~~|\n",
      "|                  E|\n",
      " ------------------- \n"
     ]
    }
   ],
   "source": [
    "# ESTA CELDA NO NECESITA SER MODIFICADA\n",
    "\"\"\" Carga un laberinto de archivo en disco e instancia el problema de busqueda.   \"\"\"\n",
    "maze = readMazeFromFile('maze3.txt') \n",
    "p = MazeSearchProblem(maze)\n",
    "print(maze)"
   ]
  },
  {
   "cell_type": "markdown",
   "metadata": {
    "id": "rf4SUSu1q4iE"
   },
   "source": [
    "### busqueda en profundidad (DFS)"
   ]
  },
  {
   "cell_type": "code",
   "execution_count": 12,
   "metadata": {
    "colab": {
     "base_uri": "https://localhost:8080/"
    },
    "id": "4lBotx47q4iF",
    "outputId": "ba800a93-e7aa-4771-fa0c-2b34d9f87759"
   },
   "outputs": [
    {
     "name": "stdout",
     "output_type": "stream",
     "text": [
      "Solucion DFS: ['W', 'W', 'W', 'W', 'S', 'S', 'E', 'E', 'E', 'E', 'E', 'E', 'E', 'E', 'E', 'E', 'E', 'E', 'E', 'E', 'E', 'E', 'E', 'E', 'S', 'S', 'W', 'W', 'W', 'W', 'W', 'W', 'W', 'W', 'W', 'W', 'S', 'S', 'S', 'S', 'E', 'E', 'E', 'E', 'E', 'E', 'E', 'E', 'E', 'E', 'S', 'S', 'W', 'W', 'W', 'W', 'W', 'S', 'S', 'E', 'E', 'E', 'E', 'E']. Nodos visitados=122. Costo Solucion = 307\n",
      " ------------------- \n",
      "|xxxxS~~~~~~~~~~~~~~|\n",
      "|x~~~~~~~~~~~~~~~~~~|\n",
      "|xxxxxxxxxxxxxxxxxxx|\n",
      "|~~~~            ~~x|\n",
      "|########xxxxxxxxxxx|\n",
      "|oooooooox    ######|\n",
      "|oooooo#oxoooo#~~~~~|\n",
      "|###### #x#####~~~~~|\n",
      "|ooooo# #xxxxxxxxxxx|\n",
      "|o#o#o###### ####~~x|\n",
      "|o#oooooooooo#xxxxxx|\n",
      "|ooooo###o####x~~~~~|\n",
      "|oooooooooooooxxxxxE|\n",
      " ------------------- \n",
      "x - celdas en la solucion\n",
      "o - celdas visitadas durante la busqueda\n",
      "-------------------------------\n"
     ]
    }
   ],
   "source": [
    "nsol, visited_nodes = graph_search(p, [])\n",
    "print('Solucion DFS: {}. Nodos visitados={}. Costo Solucion = {}'.format(nsol.solution(), len(visited_nodes),nsol.path_cost))\n",
    "displayResults(maze, visited_nodes, nsol.path())"
   ]
  },
  {
   "cell_type": "markdown",
   "metadata": {
    "id": "Lj1TWlnHq4iA"
   },
   "source": [
    "### busqueda en amplitud (BFS)"
   ]
  },
  {
   "cell_type": "code",
   "execution_count": 16,
   "metadata": {
    "colab": {
     "base_uri": "https://localhost:8080/"
    },
    "id": "3YfrEB4eq4iB",
    "outputId": "85dd8afc-02a5-4fa8-9fbd-6585935c7cdc",
    "scrolled": true
   },
   "outputs": [
    {
     "name": "stdout",
     "output_type": "stream",
     "text": [
      "Solucion DFS: ['S', 'S', 'S', 'E', 'E', 'E', 'E', 'S', 'S', 'S', 'S', 'S', 'E', 'E', 'E', 'E', 'E', 'E', 'E', 'E', 'S', 'S', 'S', 'S', 'E', 'E']. Nodos visitados=177. Costo Solucion = 91\n",
      " ------------------- \n",
      "|ooooSoooooooooooooo|\n",
      "|ooooxoooooooooooooo|\n",
      "|ooooxoooooooooooooo|\n",
      "|ooooxxxxxoooooooooo|\n",
      "|########xoooooooooo|\n",
      "|ooooooooxoooo######|\n",
      "|oooooo#oxoooo#ooooo|\n",
      "|###### #x#####ooooo|\n",
      "|    o# #xxxxxxxxxoo|\n",
      "| # #o######o####xoo|\n",
      "| #oooooooooo#oooxoo|\n",
      "|   oo###o####~ooxoo|\n",
      "|    ooooooooo  oxxE|\n",
      " ------------------- \n",
      "x - celdas en la solucion\n",
      "o - celdas visitadas durante la busqueda\n",
      "-------------------------------\n"
     ]
    }
   ],
   "source": [
    "nsol, visited_nodes = graph_search(p, FIFOQueue())\n",
    "print('Solucion DFS: {}. Nodos visitados={}. Costo Solucion = {}'.format(nsol.solution(), len(visited_nodes),nsol.path_cost))\n",
    "displayResults(maze, visited_nodes, nsol.path())"
   ]
  },
  {
   "cell_type": "markdown",
   "metadata": {
    "id": "f8m8GNb3q4iW"
   },
   "source": [
    "## Preguntas\n",
    "<b>1) Completar el código (6 puntos)  </b>\n",
    " \n",
    "<b>2) En cuanto a los resultados obtenidos. ¿Los algoritmos BFS o DFS encuentran soluciones optimas? ¿Por Qué? Explique detalladamente (4 puntos)</b>\n",
    "\n",
    "<b>3) Compare los resultados obtenidos por BFS y DFS en cuanto a nodos visitados y costo de solución. Explique la razón de las diferencias o similitudes. (4 puntos) </b>\n",
    "\n",
    "<b>4) ¿Qué diferencia consigue notar entre las regiones exploradas por los dos métodos de búsqueda? Explique con referencia a las celdas visitadas durante la búsqueda y cómo el método de búsqueda llega a visitar dichas celdas. (3 puntos)</b>\n",
    "\n",
    "<b>5) Para el problema del laberinto desarrollado en este laboratorio. ¿Qué ventaja habría si en vez de hacer busqueda BFS con la implementacion graph_search  se hubiera implementado la funcion BREADTH-FIRST-SEARCH  (diapositiva 8  de  BusquedaSinInformacion.pdf)? (3 puntos)</b>\n",
    "\n",
    "\n",
    "\n",
    " "
   ]
  },
  {
   "cell_type": "markdown",
   "metadata": {},
   "source": [
    "**Pregunta 2** <br>\n",
    "Ambos algoritmos obtienen soluciones optimas ya que logran llegar del punto S al punto E y evitan las posiciones con obstaculos impasables."
   ]
  },
  {
   "cell_type": "markdown",
   "metadata": {},
   "source": [
    "**Pregunta 3** <br>\n",
    "Ambos algoritmos encuentran soluciones, pero el algoritmo que encuentra la solucion mas optima es el algoritmo BFS ya que tiene un costo de 91 a comparacion del costo del algoritmo DFS el cual tiene un costo de 307. El algoritmo DFS se mueve a travez de menos nodos mientras que el algoritmo DFS se mueve a travez de mas nodos."
   ]
  },
  {
   "cell_type": "markdown",
   "metadata": {},
   "source": [
    "**Pregunta 4** <br>\n",
    "El algoritmo DFS trata de ir de un extremo del mapa hasta el opuesto en cada movimiento hasta que encuentra un obstaculo. Esto se debe a que el algoritmo DFS utiliza una pila como frontera, por lo que siempre va a favorecer los nodos mas nuevos a los nodos mas antiguos por lo que da una solucion no muy buena. El algoritmo BFS es mas directo puesto que el algoritmo no realiza tantos movimientos ya que este usa una FIFOQueue como frontera, esto beneficia ya que siempre va a favorecer a los nodos mas antiguos a comparacion de los nodos mas recientes, esto permite que encuentre la solucion mas rapido."
   ]
  },
  {
   "cell_type": "markdown",
   "metadata": {},
   "source": [
    "**Pregunta 5**<br>\n",
    "Ninguna ya que la funcion graph_search desarrollada en este laboratorio nos da flexibilidad puesto que uno puede utilizar DFS o BFS dependiendo del tipo de frontera pasada a la funcion, permitiendonos decidir el mejor algoritmo para el problema. En cambio, la funcion de las diapositivas solo utiliza un FIFOQueue como frontera por lo que no tenemos flexibilidad."
   ]
  }
 ],
 "metadata": {
  "colab": {
   "collapsed_sections": [],
   "name": "Laboratorio 7 2020-2 Enunciado.ipynb",
   "provenance": []
  },
  "kernelspec": {
   "display_name": "Python 3",
   "language": "python",
   "name": "python3"
  },
  "language_info": {
   "codemirror_mode": {
    "name": "ipython",
    "version": 3
   },
   "file_extension": ".py",
   "mimetype": "text/x-python",
   "name": "python",
   "nbconvert_exporter": "python",
   "pygments_lexer": "ipython3",
   "version": "3.8.6"
  }
 },
 "nbformat": 4,
 "nbformat_minor": 4
}
