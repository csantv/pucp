{
 "cells": [
  {
   "cell_type": "markdown",
   "metadata": {
    "colab_type": "text",
    "id": "wFGHDge1q4gz"
   },
   "source": [
    "# APLICACIONES EN CIENCIAS DE COMPUTACION"
   ]
  },
  {
   "cell_type": "markdown",
   "metadata": {
    "colab_type": "text",
    "id": "Wk2dv1Rzq4g2"
   },
   "source": [
    "## Laboratorio 3:  Busqueda en Laberintos\n",
    "\n",
    "La tarea de este laboratorio consiste en comparar métodos de busqueda ciega y busqueda informada A* para buscar caminos en un laberinto. La clase MazeSearchProblem necesita ser completada (metodos actions y result). Deberá implementarse 2 heurísticas para A* (euclidean_dist:distancia en linea recta, y manhattan_dist:distancia Manhattan). Despues de implementar ello pruebe las implementaciones con el laberinto the_maze.txt. Al final de este notebook estan las preguntas que seran evaluadas en este laboratorio. \n",
    "\n",
    "**Usted deberá completar el código en las secciones indicadas con \"COMPLETAR\"**\n"
   ]
  },
  {
   "cell_type": "markdown",
   "metadata": {
    "colab_type": "text",
    "id": "saqzg67Tq4g3"
   },
   "source": [
    "### Clase <b>Maze</b>\n",
    "La clase Maze es representada por una matriz (grid) de espacios, los cuales pueden estar libres o bloqueados. Cada celda del grid puede tener uno de los siguientes carateres:\n",
    "\n",
    "    '#': Indica una celda con obstaculo  (impasable) \n",
    "    '~': Indica una celda con agua (pasable, con costo 5)\n",
    "    ' ': Celda vacia (passable con costo 1)\n",
    "    'S': Indicate la celda de inicio\n",
    "    'E': Indicates la celda de salida "
   ]
  },
  {
   "cell_type": "code",
   "execution_count": null,
   "metadata": {
    "colab": {},
    "colab_type": "code",
    "id": "hG2ZKq4Jq4g5"
   },
   "outputs": [],
   "source": [
    "class Maze:\n",
    "\n",
    "    def __init__(self, grid):\n",
    "        \"\"\" Construye el maze a partir del grid pasado\n",
    "            grid: debe ser una matriz (lista de listas), ejemplo [['#','S',' '],['#',' ','E']]  \"\"\"\n",
    "        self.grid = grid\n",
    "        self.numRows = len(grid)\n",
    "        self.numCols = len(grid[0])\n",
    "        for i in range(self.numRows):\n",
    "            for j in range(self.numCols):\n",
    "                if len(grid[i]) != self.numCols:\n",
    "                    raise \"Grid no es Rectangular\"\n",
    "                if grid[i][j] == 'S':\n",
    "                    self.startCell = (i,j)\n",
    "                if grid[i][j] == 'E':\n",
    "                    self.exitCell= (i,j)\n",
    "        if self.exitCell == None:\n",
    "            raise \"No hay celda de Inicio\"\n",
    "        if self.startCell == None:\n",
    "            raise \"No hay celda de salida\"\n",
    "   \n",
    "    def isPassable(self, row, col):\n",
    "        \"\"\" Retorna true si la celda (row,col) es pasable  (' ' o '~') \"\"\"\n",
    "        return self.isWater(row, col) or self.isClear(row, col)\n",
    "  \n",
    "    def isWater(self, row, col):\n",
    "        \"\"\" Retorna true si la celda (row,col) tiene agua  ('~') \"\"\"\n",
    "        return self.grid[row][col] == '~'\n",
    "    \n",
    "    def isClear(self, row, col):\n",
    "        \"\"\" Retorna true si la celda (row,col) esta vacia  (' ') \"\"\"\n",
    "        return self.grid[row][col] == ' '\n",
    "    \n",
    "    def isBlocked(self, row,col):\n",
    "        \"\"\" Retorna true si la celda (row,col) tiene obstaculo ('#') \"\"\"\n",
    "        return self.grid[row][col] == '#'   \n",
    "        \n",
    "    def getNumRows(self):\n",
    "        \"\"\" Retorna el numero de filas en el maze \"\"\"\n",
    "        return self.numRows\n",
    "  \n",
    "    def getNumCols(self):\n",
    "        \"\"\" Retorna el numero de columnas en el maze \"\"\"\n",
    "        return self.numCols  \n",
    "   \n",
    "    def getStartCell(self):\n",
    "        \"\"\" Retorna la posicion (row,col) de la celda de inicio \"\"\"\n",
    "        return self.startCell\n",
    "  \n",
    "    def getExitCell(self):\n",
    "        \"\"\" Retorna la posicion (row,col) de la celda de salida \"\"\"\n",
    "        return self.exitCell\n",
    "\n",
    "    def __getAsciiString(self):\n",
    "        \"\"\" Retorna el string de vizualizacion del maze \"\"\"\n",
    "        lines = []\n",
    "        headerLine = ' ' + ('-' * (self.numCols)) + ' '\n",
    "        lines.append(headerLine)\n",
    "        for row in self.grid:\n",
    "            rowLine = '|' + ''.join(row) + '|'\n",
    "            lines.append(rowLine)\n",
    "        lines.append(headerLine)\n",
    "        return '\\n'.join(lines)\n",
    "\n",
    "    def __str__(self):\n",
    "        return self.__getAsciiString()"
   ]
  },
  {
   "cell_type": "markdown",
   "metadata": {
    "colab_type": "text",
    "id": "veG_ovgSq4g_"
   },
   "source": [
    "### Funcion para cargar una laberinto de archivo de disco"
   ]
  },
  {
   "cell_type": "code",
   "execution_count": null,
   "metadata": {
    "colab": {},
    "colab_type": "code",
    "id": "kc9MTh_sq4hB"
   },
   "outputs": [],
   "source": [
    "def readMazeFromFile(file):\n",
    "    \"\"\" Lee un archivo que contiene un laberinto y retorna una instancia de Maze con dicho laberinto\"\"\"\n",
    "    fin = open(file)\n",
    "    lines = fin.read().splitlines()\n",
    "    grid = []\n",
    "    for line in lines: \n",
    "        grid.append(list(line))\n",
    "    return Maze(grid)"
   ]
  },
  {
   "cell_type": "markdown",
   "metadata": {
    "colab_type": "text",
    "id": "fIocqccGq4hH"
   },
   "source": [
    "### Clase <b>SearchProblem</b>\n",
    "\n",
    "Esta es una clase abstracta para definir problemas de busqueda. Se debe hacer subclases que implementen los metodos de las acciones, resultados, test de objetivo y el costo de camino. Entonces se puede instanciar las subclases y resolverlos con varias funciones de busqueda."
   ]
  },
  {
   "cell_type": "code",
   "execution_count": null,
   "metadata": {
    "colab": {},
    "colab_type": "code",
    "id": "Ix26qwRnq4hK"
   },
   "outputs": [],
   "source": [
    "class SearchProblem(object):\n",
    "    def __init__(self, initial, goal=None):\n",
    "        \"\"\"Este constructor especifica el estado inicial y posiblemente el estado(s) objetivo(s),\n",
    "        La subclase puede añadir mas argumentos.\"\"\"\n",
    "        self.initial = initial\n",
    "        self.goal = goal\n",
    "\n",
    "    def actions(self, state):\n",
    "        \"\"\"Retorna las acciones que pueden ser ejecutadas en el estado dado.\n",
    "        El resultado es tipicamente una lista.\"\"\"\n",
    "        raise NotImplementedError\n",
    "\n",
    "    def result(self, state, action):\n",
    "        \"\"\"Retorna el estado que resulta de ejecutar la accion dada en el estado state.\n",
    "        La accion debe ser alguna de self.actions(state).\"\"\"\n",
    "        raise NotImplementedError\n",
    "\n",
    "    def goal_test(self, state):\n",
    "        \"\"\"Retorna True si el estado pasado satisface el objetivo.\"\"\"\n",
    "        raise NotImplementedError\n",
    "\n",
    "    def path_cost(self, c, state1, action, state2):\n",
    "        \"\"\"Retorna el costo del camino de state2 viniendo de state1 con \n",
    "        la accion action, asumiendo un costo c para llegar hasta state1. \n",
    "        El metodo por defecto cuesta 1 para cada paso en el camino.\"\"\"\n",
    "        return c + 1"
   ]
  },
  {
   "cell_type": "markdown",
   "metadata": {
    "colab_type": "text",
    "id": "JcMTkTJ2q4hQ"
   },
   "source": [
    "###  <b> Clase MazeSearchProblem </b>  \n",
    "Esta es una subclase de SearchProblem que implementa concretamente el problema de busqueda en laberinto. El constructor recibe el laberinto en un objeto maze. Cada estado es codificado como una tupla (row,col) representando la posicion de una celda del grid. El estado inicial es la celda de inicio y el único estado objetivo es la celda de salida.\n",
    "Se necesita completar Actions (acciones legales para un estado dado) y result (que hacen las acciones)."
   ]
  },
  {
   "cell_type": "code",
   "execution_count": null,
   "metadata": {
    "colab": {},
    "colab_type": "code",
    "id": "zHnslRtFq4hR"
   },
   "outputs": [],
   "source": [
    "class MazeSearchProblem(SearchProblem):\n",
    "    def __init__(self, maze):\n",
    "        \"\"\"El constructor recibe el maze\"\"\"\n",
    "        self.maze = maze\n",
    "        self.initial = maze.getStartCell()\n",
    "        self.goal = maze.getExitCell()\n",
    "        self.numNodesExpanded = 0        \n",
    "        self.expandedNodeSet = {}   \n",
    "        \n",
    "    def __isValidState(self,state):\n",
    "        \"\"\" Retorna true si el estado dado corresponde a una celda no bloqueada valida \"\"\"\n",
    "        row,col = state\n",
    "        if row < 0 or row >= self.maze.getNumRows():\n",
    "            return False\n",
    "        if col < 0 or col >= self.maze.getNumCols():\n",
    "            return False\n",
    "        return not self.maze.isBlocked(row,col)        \n",
    "\n",
    "    def actions(self, state):\n",
    "        \"\"\"Retorna las acciones legales desde la celda actual \"\"\"\n",
    "        row,col = state\n",
    "        acciones = []\n",
    "        if self.__isValidState((row-1, col)):\n",
    "            acciones.append('N')\n",
    "            \n",
    "        ## COMPLETAR\n",
    "        return acciones\n",
    "    \n",
    "    def result(self, state, action):\n",
    "        \"\"\"Retorna el estado que resulta de ejecutar la accion dada desde la celda actual.\n",
    "        La accion debe ser alguna de self.actions(state)\"\"\"  \n",
    "        row,col = state\n",
    "        newState = ()\n",
    "        if action == 'N':\n",
    "            newState = (row-1, col)\n",
    "        \n",
    "        ## COMPLETAR\n",
    "        return newState\n",
    "        \n",
    "    def goal_test(self, state):\n",
    "        \"\"\"Retorna True si state es self.goal\"\"\"\n",
    "        return (self.goal == state) \n",
    "\n",
    "    def path_cost(self, c, state1, action, state2):\n",
    "        \"\"\"Retorna el costo del camino de state2 viniendo de state1 con la accion action \n",
    "        El costo del camino para llegar a state1 es c. El costo de la accion sale de self.maze \"\"\"\n",
    "        row, col = state2\n",
    "        if self.maze.isClear(row, col):\n",
    "            actionCost = ## COMPLETAR\n",
    "        elif self.maze.isWater(row, col):\n",
    "            actionCost = ## COMPLETAR\n",
    "        elif state2 == self.maze.getStartCell() or state2 == self.maze.getExitCell():\n",
    "            actionCost = 1\n",
    "        else:\n",
    "            raise \"El costo de una celda bloqueada no esta definido\" \n",
    "        return c + actionCost"
   ]
  },
  {
   "cell_type": "markdown",
   "metadata": {
    "colab_type": "text",
    "id": "iRkaAWxNq4hU"
   },
   "source": [
    "### Clase <b>Node</b>\n",
    "\n",
    "Estructura de datos para almacenar la informacion de un nodo en un <b>arbol de busqueda</b>. Contiene información del nodo padre y el estado que representa el nodo. Tambien incluye la accion que nos llevo al presente nodo y el costo total del camino desde el nodo raiz hasta este nodo."
   ]
  },
  {
   "cell_type": "code",
   "execution_count": null,
   "metadata": {
    "colab": {},
    "colab_type": "code",
    "id": "u4iDAiKtq4hV"
   },
   "outputs": [],
   "source": [
    "class Node:\n",
    "    def __init__(self, state, parent=None, action=None, path_cost=0):\n",
    "        \"Crea un nodo de arbol de busqueda, derivado del nodo parent y accion action\"\n",
    "        self.state = state\n",
    "        self.parent = parent\n",
    "        self.action = action\n",
    "        self.path_cost = path_cost\n",
    "        self.depth = 0\n",
    "        if parent:\n",
    "            self.depth = parent.depth + 1\n",
    "\n",
    "    def expand(self, problem):\n",
    "        \"Devuelve los nodos alcanzables en un paso a partir de este nodo.\"\n",
    "        return [self.child_node(problem, action)\n",
    "                for action in problem.actions(self.state)]\n",
    "\n",
    "    def child_node(self, problem, action):\n",
    "        next = problem.result(self.state, action)\n",
    "        return Node(next, self, action,\n",
    "                    problem.path_cost(self.path_cost, self.state, action, next))\n",
    "\n",
    "    def solution(self):\n",
    "        \"Retorna la secuencia de acciones para ir de la raiz a este nodo.\"\n",
    "        return [node.action for node in self.path()[1:]]\n",
    "\n",
    "    def path(self):\n",
    "        \"Retorna una lista de nodos formando un camino de la raiz a este nodo.\"\n",
    "        node, path_back = self, []\n",
    "        while node:\n",
    "            path_back.append(node)\n",
    "            node = node.parent\n",
    "        return list(reversed(path_back))\n",
    "    \n",
    "    def __lt__(self, node):\n",
    "        return self.state < node.state\n",
    "    \n",
    "    def __eq__(self, other): \n",
    "        \"Este metodo se ejecuta cuando se compara nodos. Devuelve True cuando los estados son iguales\"\n",
    "        return isinstance(other, Node) and self.state == other.state\n",
    "    \n",
    "    def __repr__(self):\n",
    "        return \"<Node {}>\".format(self.state)\n",
    "    \n",
    "    def __hash__(self):\n",
    "        return hash(self.state)"
   ]
  },
  {
   "cell_type": "markdown",
   "metadata": {
    "colab_type": "text",
    "id": "-z1VHl3Pq4hY"
   },
   "source": [
    "### <b> Frontera tipo cola FIFO (first-in first out) para BFS</b> "
   ]
  },
  {
   "cell_type": "code",
   "execution_count": null,
   "metadata": {
    "colab": {},
    "colab_type": "code",
    "id": "YANBIXmXq4hZ"
   },
   "outputs": [],
   "source": [
    "# ESTA CELDA NO NECESITA SER MODIFICADA\n",
    "from collections import deque\n",
    "\n",
    "class FIFOQueue(deque):\n",
    "    \"\"\"Una cola First-In-First-Out\"\"\"\n",
    "    def pop(self):\n",
    "        return self.popleft()"
   ]
  },
  {
   "cell_type": "markdown",
   "metadata": {
    "colab_type": "text",
    "id": "3X71Ma4cq4hd"
   },
   "source": [
    "### <b> Frontera tipo cola de prioridad ordenada por una funcion de costo (para best_first_graph_search y A*)</b> "
   ]
  },
  {
   "cell_type": "code",
   "execution_count": null,
   "metadata": {
    "colab": {},
    "colab_type": "code",
    "id": "CKRFAmUEq4hf"
   },
   "outputs": [],
   "source": [
    "import heapq\n",
    "class FrontierPQ:\n",
    "    \"Una Frontera ordenada por una funcion de costo (Priority Queue)\"\n",
    "    \n",
    "    def __init__(self, initial, costfn=lambda node: node.path_cost):\n",
    "        \"Inicializa la Frontera con un nodo inicial y una funcion de costo especificada (por defecto es el costo de camino).\"\n",
    "        self.heap   = []\n",
    "        self.states = {}\n",
    "        self.costfn = costfn\n",
    "        self.add(initial)\n",
    "    \n",
    "    def add(self, node):\n",
    "        \"Agrega un nodo a la frontera.\"\n",
    "        cost = self.costfn(node)\n",
    "        heapq.heappush(self.heap, (cost, node))\n",
    "        self.states[node.state] = node\n",
    "        \n",
    "    def pop(self):\n",
    "        \"Remueve y retorna el nodo con minimo costo.\"\n",
    "        (cost, node) = heapq.heappop(self.heap)\n",
    "        self.states.pop(node.state, None) # remove state\n",
    "        return node\n",
    "    \n",
    "    def replace(self, node):\n",
    "        \"node reemplaza al nodo de la Fontera que tiene el mismo estado que node.\"\n",
    "        if node.state not in self:\n",
    "            raise ValueError('{} no tiene nada que reemplazar'.format(node.state))\n",
    "        for (i, (cost, old_node)) in enumerate(self.heap):\n",
    "            if old_node.state == node.state:\n",
    "                self.heap[i] = (self.costfn(node), node)\n",
    "                heapq._siftdown(self.heap, 0, i)\n",
    "                return\n",
    "\n",
    "    def __contains__(self, state): return state in self.states\n",
    "    \n",
    "    def __len__(self): return len(self.heap)"
   ]
  },
  {
   "cell_type": "markdown",
   "metadata": {
    "colab_type": "text",
    "id": "aJNeW471q4hi"
   },
   "source": [
    "### <b>Algoritmo general de búsqueda con memoria de nodos expandidos (Graph Search)</b>\n",
    "\n",
    "Algoritmo de general de busqueda ciega con memoria de estados visitados. El argumento frontier debe ser una cola vacia. Si la frontera es tipo FIFO hace busqueda en amplitud (BFS), si la frontera es una pila hará busqueda en profundidad (DFS)"
   ]
  },
  {
   "cell_type": "code",
   "execution_count": null,
   "metadata": {
    "colab": {},
    "colab_type": "code",
    "id": "1O8dyg_zq4hk"
   },
   "outputs": [],
   "source": [
    "def graph_search(problem, frontier):\n",
    "    frontier.append(Node(problem.initial))\n",
    "    explored = set()     # memoria de estados visitados\n",
    "    visited_nodes = []   # almacena nodos visitados durante la busqueda\n",
    "    while frontier:\n",
    "        node = frontier.pop()\n",
    "        visited_nodes.append(node)\n",
    "        if problem.goal_test(node.state):\n",
    "            return node, visited_nodes\n",
    "        explored.add(node.state)\n",
    "        \n",
    "        frontier.extend(child for child in node.expand(problem)\n",
    "                        if child.state not in explored and\n",
    "                        child not in frontier)\n",
    "    return None"
   ]
  },
  {
   "cell_type": "markdown",
   "metadata": {
    "colab_type": "text",
    "id": "dHsTKHrwq4hr"
   },
   "source": [
    "### <b> Algoritmo Best-First-Graph-Search </b> \n",
    "Algoritmo general de busqueda con información. La frontera es una cola de prioridad ordenada por la funcion de evaluacion f "
   ]
  },
  {
   "cell_type": "code",
   "execution_count": null,
   "metadata": {
    "colab": {},
    "colab_type": "code",
    "id": "cDMuSarYq4hs"
   },
   "outputs": [],
   "source": [
    "def best_first_graph_search(problem, f):\n",
    "    \"\"\"Busca el objetivo expandiendo el nodo de la frontera con el menor valor de la funcion f. Memoriza estados visitados\n",
    "    Antes de llamar a este algoritmo hay que especificar La funcion f(node). Si f es node.depth tenemos Busqueda en Amplitud; \n",
    "    si f es node.path_cost tenemos Busqueda  de Costo Uniforme. Si f es una heurística tenemos Busqueda Voraz;\n",
    "    Si f es node.path_cost + heuristica(node) tenemos A* \"\"\"\n",
    "\n",
    "    frontier = FrontierPQ( Node(problem.initial), f )  # frontera tipo cola de prioridad ordenada por f\n",
    "    explored = set()     # memoria de estados visitados\n",
    "    visited_nodes = []   # almacena nodos visitados durante la busqueda\n",
    "    while frontier:\n",
    "        node = frontier.pop()\n",
    "        visited_nodes.append(node)        \n",
    "        if problem.goal_test(node.state):\n",
    "            return node, visited_nodes\n",
    "        explored.add(node.state)\n",
    "        for action in problem.actions(node.state):\n",
    "            child = node.child_node(problem, action)\n",
    "            if child.state not in explored and child.state not in frontier:\n",
    "                frontier.add(child)\n",
    "            elif child.state in frontier:\n",
    "                incumbent = frontier.states[child.state] \n",
    "                if f(child) < f(incumbent):\n",
    "                    frontier.replace(child)"
   ]
  },
  {
   "cell_type": "markdown",
   "metadata": {
    "colab_type": "text",
    "id": "kZBF7yBsq4hw"
   },
   "source": [
    "### <b> Algoritmo A* </b> \n",
    "A* es un caso especial de best_first_graph_search con f = path_cost + heuristic"
   ]
  },
  {
   "cell_type": "code",
   "execution_count": null,
   "metadata": {
    "colab": {},
    "colab_type": "code",
    "id": "H_zckGu3q4hz"
   },
   "outputs": [],
   "source": [
    "def astar_search(problem, heuristic):\n",
    "    f = lambda node: node.path_cost + heuristic(node, problem)\n",
    "    return best_first_graph_search(problem, f)\n",
    "\n",
    "def nullheuristic(node, problem):   # heurística nula (A* se convierte en busqueda de costo uniforme)\n",
    "    return 0"
   ]
  },
  {
   "cell_type": "markdown",
   "metadata": {
    "colab_type": "text",
    "id": "E7TdaAGRq4h2"
   },
   "source": [
    "### <b> Heurísticas para A* </b> \n",
    "Se debe implementar las heurísticas abajo para A* "
   ]
  },
  {
   "cell_type": "code",
   "execution_count": null,
   "metadata": {
    "colab": {},
    "colab_type": "code",
    "id": "XSBXkiPLq4h3"
   },
   "outputs": [],
   "source": [
    "import math\n",
    "\n",
    "def euclidean_dist(node, problem):\n",
    "    \"Distancia en linea recta desde la celda de node hasta la celda Objetivo (problem.goal)\"\n",
    "    ## COMPLETAR\n",
    "\n",
    "def manhattan_dist(node, problem):\n",
    "    \"Distancia Manhattan (o city block) desde la celda de node hasta la celda Objetivo (problem.goal)\"\n",
    "    ## COMPLETAR\n",
    "\n",
    "def chebyshev_dist(node, problem):\n",
    "    \"Distancia de chebyshev (https://chris3606.github.io/GoRogue/articles/grid_components/measuring-distance.html#chebyshev-distance) desde la celda de node hasta la celda Objetivo (problem.goal)\"\n",
    "    ## COMPLETAR"
   ]
  },
  {
   "cell_type": "markdown",
   "metadata": {
    "colab_type": "text",
    "id": "8qRUfV3-q4h6"
   },
   "source": [
    "### <b> Funcion para mostrar los resultados </b> "
   ]
  },
  {
   "cell_type": "code",
   "execution_count": null,
   "metadata": {
    "colab": {},
    "colab_type": "code",
    "id": "7ep8bOabq4h7"
   },
   "outputs": [],
   "source": [
    "def displayResults(maze, visitedNodes, solutionNodes):\n",
    "    \"\"\" Muestra los resultados de busqueda en el maze.   \"\"\"\n",
    "    grid_copy = []\n",
    "    for row in maze.grid:\n",
    "        grid_copy.append([x for x in row]) \n",
    "    for node in visitedNodes:\n",
    "        row,col = node.state\n",
    "        ch = maze.grid[row][col]\n",
    "        if ch != 'S' and ch != 'E': grid_copy[row][col] = 'o' \n",
    "    for node in solutionNodes:  \n",
    "        row,col = node.state\n",
    "        ch = maze.grid[row][col]\n",
    "        if ch != 'S' and ch != 'E': grid_copy[row][col] = 'x'    \n",
    "    maze_copy = Maze(grid_copy)\n",
    "    print (maze_copy)\n",
    "    print (\"x - celdas en la solucion\")\n",
    "    print (\"o - celdas visitadas durante la busqueda\")\n",
    "    print (\"-------------------------------\")"
   ]
  },
  {
   "cell_type": "markdown",
   "metadata": {
    "colab_type": "text",
    "id": "xhQdPpzSq4h-"
   },
   "source": [
    "## <b> Experimentación con los algoritmos de Busqueda</b> \n"
   ]
  },
  {
   "cell_type": "code",
   "execution_count": null,
   "metadata": {
    "colab": {},
    "colab_type": "code",
    "id": "O2aMuaFCq4h-"
   },
   "outputs": [],
   "source": [
    "\"\"\" Carga un laberinto de archivo en disco e instancia el problema de busqueda.   \"\"\"\n",
    "maze = readMazeFromFile('the_maze.txt') \n",
    "p = MazeSearchProblem(maze)\n",
    "print(maze)"
   ]
  },
  {
   "cell_type": "markdown",
   "metadata": {
    "colab_type": "text",
    "id": "Lj1TWlnHq4iA"
   },
   "source": [
    "### busqueda en amplitud (BFS)"
   ]
  },
  {
   "cell_type": "code",
   "execution_count": null,
   "metadata": {
    "colab": {},
    "colab_type": "code",
    "id": "3YfrEB4eq4iB",
    "scrolled": true
   },
   "outputs": [],
   "source": [
    "nsol, visited_nodes = graph_search(p, FIFOQueue())\n",
    "print('Solucion BFS: {}. Nodos visitados={}. Costo Solucion = {}'.format(nsol.solution(), len(visited_nodes),nsol.path_cost))\n",
    "displayResults(maze, visited_nodes, nsol.path())"
   ]
  },
  {
   "cell_type": "markdown",
   "metadata": {
    "colab_type": "text",
    "id": "rf4SUSu1q4iE"
   },
   "source": [
    "### busqueda en profundidad (DFS)"
   ]
  },
  {
   "cell_type": "code",
   "execution_count": null,
   "metadata": {
    "colab": {},
    "colab_type": "code",
    "id": "4lBotx47q4iF"
   },
   "outputs": [],
   "source": [
    "nsol, visited_nodes = graph_search(p, [])\n",
    "print('Solucion DFS: {}. Nodos visitados={}. Costo Solucion = {}'.format(nsol.solution(), len(visited_nodes),nsol.path_cost))\n",
    "displayResults(maze, visited_nodes, nsol.path())"
   ]
  },
  {
   "cell_type": "markdown",
   "metadata": {
    "colab_type": "text",
    "id": "56MmR9hcq4iL"
   },
   "source": [
    "### busqueda A* con heurística nula (UCS)"
   ]
  },
  {
   "cell_type": "code",
   "execution_count": null,
   "metadata": {
    "colab": {},
    "colab_type": "code",
    "id": "-39iMmdYq4iM"
   },
   "outputs": [],
   "source": [
    "nsol, visited_nodes = astar_search(p, nullheuristic)\n",
    "print('Solucion A* y heuristica nula (UCS): {}. Nodos visitados={}. Costo Solucion = {}'.format(nsol.solution(), len(visited_nodes),nsol.path_cost))\n",
    "displayResults(maze, visited_nodes, nsol.path())"
   ]
  },
  {
   "cell_type": "markdown",
   "metadata": {
    "colab_type": "text",
    "id": "3tECNkm7q4iP"
   },
   "source": [
    "### busqueda A* con heurística euclidean_dist (Completar el código para mostrar los resultados de la búsqueda con heurística euclidean_dist)"
   ]
  },
  {
   "cell_type": "code",
   "execution_count": null,
   "metadata": {
    "colab": {},
    "colab_type": "code",
    "id": "m9kHI8cZq4iQ"
   },
   "outputs": [],
   "source": [
    "## COMPLETAR\n"
   ]
  },
  {
   "cell_type": "markdown",
   "metadata": {
    "colab_type": "text",
    "id": "F9vuODAZq4iT"
   },
   "source": [
    "### busqueda A* con heurística manhattan_dist (Completar el código para mostrar los resultados de la búsqueda con heurística manhattan_dist)"
   ]
  },
  {
   "cell_type": "code",
   "execution_count": null,
   "metadata": {
    "colab": {},
    "colab_type": "code",
    "id": "IPMjy-Avq4iT"
   },
   "outputs": [],
   "source": [
    "## COMPLETAR\n"
   ]
  },
  {
   "cell_type": "markdown",
   "metadata": {},
   "source": [
    "### búsqueda A* con heurística chebyshev_dist (Completar el código para mostrar los resultados de la búsqueda con heurística chebyshev_dist)"
   ]
  },
  {
   "cell_type": "code",
   "execution_count": null,
   "metadata": {},
   "outputs": [],
   "source": [
    "## COMPLETAR\n"
   ]
  },
  {
   "cell_type": "markdown",
   "metadata": {
    "colab_type": "text",
    "id": "f8m8GNb3q4iW"
   },
   "source": [
    "## Preguntas\n",
    "\n",
    " \n",
    "<b>1) En cuanto a los resultados obtenido, ¿los algoritmos BFS o DFS encuentran soluciones optimas? ¿Por Qué?  </b>\n",
    "\n",
    "<b>2) En cuanto a las soluciones encontradas por A*, ¿ellas serán siempre óptimas? ¿Por Qué? ¿La heurística ayuda en este caso? </b>\n",
    "\n",
    "<b>3) En cuanto al costo temporal, ¿cuál método visita menos nodos? ¿Por Qué? </b>\n",
    "\n",
    "<b>4) ¿Existe relación de dominancia entre algún par de heurísticas implementadas? ¿Por Que? </b>\n",
    "\n",
    "<b>5) ¿Qué diferencia consigue notar entre las regiones exploradas por las tres heurísticas desarrolladas? Explique. </b>\n",
    "\n",
    "\n",
    "\n",
    " "
   ]
  }
 ],
 "metadata": {
  "colab": {
   "collapsed_sections": [],
   "name": "Laboratorio 3-ACC.ipynb",
   "provenance": []
  },
  "kernelspec": {
   "display_name": "Python 3",
   "language": "python",
   "name": "python3"
  },
  "language_info": {
   "codemirror_mode": {
    "name": "ipython",
    "version": 3
   },
   "file_extension": ".py",
   "mimetype": "text/x-python",
   "name": "python",
   "nbconvert_exporter": "python",
   "pygments_lexer": "ipython3",
   "version": "3.8.6"
  }
 },
 "nbformat": 4,
 "nbformat_minor": 4
}
