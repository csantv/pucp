{
 "cells": [
  {
   "cell_type": "markdown",
   "metadata": {},
   "source": [
    "# APLICACIONES EN CIENCIAS DE COMPUTACION (INF265)¶\n",
    "Dr. Edwin Villanueva Talavera (ervillanueva@pucp.edu.pe)"
   ]
  },
  {
   "cell_type": "markdown",
   "metadata": {},
   "source": [
    "# Practica: Agente solucionador de problemas - entorno \"4-puzzle\"  \n",
    "\n",
    "El presente notebook muestra una implementacion de un Agente de Resolución de Problemas para el entorno de 4-puzzle (3 piezas numeradas del 1 al 3 y una pocision vacia). Un Algoritmo general de búsqueda con memoria de nodos expandidos ya se encuentra implementado (graph_search).\n",
    "Al final del notebook deberas responder a las preguntas planteadas. \n",
    "\n",
    "![VacuumEnvironment](4-puzzle.png)\n"
   ]
  },
  {
   "cell_type": "markdown",
   "metadata": {},
   "source": [
    "# Implementación del entorno 4-puzzle"
   ]
  },
  {
   "cell_type": "markdown",
   "metadata": {},
   "source": [
    "#### Clase <b>Thing</b>\n",
    "Esta clase generica representa cualquier objeto fisico que puede aparecer en un <b>Ambiente</b>. (No editar)  "
   ]
  },
  {
   "cell_type": "code",
   "execution_count": null,
   "metadata": {},
   "outputs": [],
   "source": [
    "class Thing(object):\n",
    "\n",
    "    def is_alive(self):\n",
    "        \"\"\"Cosas 'vivas'deben retornar true.\"\"\"\n",
    "        return hasattr(self, 'alive') and self.alive\n",
    "\n",
    "    def show_state(self):\n",
    "        \"\"\"Muestra el estado interno del agente. Subclases deben sobreescribir esto.\"\"\"\n",
    "        print(\"I don't know how to show_state.\")"
   ]
  },
  {
   "cell_type": "markdown",
   "metadata": {},
   "source": [
    "#### Clase <b>Environment</b>\n",
    "\n",
    "Esta clase abstracta representa un entorno de tareas. Clases de entornos reales heredan de esta. En un entorno tipicamente se necesitará implementar 2 cosas:\n",
    "<b>percept</b>, que define la percepción que el agente ve; y \n",
    "<b>execute_action</b>, que define los efectos de ejecutar una acción. \n",
    "El entorno mantiene una lista de .things y .agents (el cual es un subconjunto de .things). Cada elemento de .things tiene un slot .location. (No editar)"
   ]
  },
  {
   "cell_type": "code",
   "execution_count": null,
   "metadata": {},
   "outputs": [],
   "source": [
    "class Environment(object):\n",
    "\n",
    "    def __init__(self):\n",
    "        self.things = []\n",
    "        self.agents = []\n",
    "\n",
    "    def thing_classes(self):\n",
    "        return []  # List of classes that can go into environment\n",
    "\n",
    "    def percept(self, agent):\n",
    "        \"\"\"Retorna la percepcion que el agente 'agent' ve en este punto.\"\"\"\n",
    "        raise NotImplementedError\n",
    "\n",
    "    def execute_action(self, agent, action):\n",
    "        \"\"\"El agente 'agent' ejecuta una accion 'action' en el entorno.\"\"\"\n",
    "        raise NotImplementedError\n",
    "\n",
    "    def default_location(self, thing):\n",
    "        \"\"\"Localización por defecto para colocar una nueva cosa sin localizacion especificada.\"\"\"\n",
    "        return None\n",
    "\n",
    "    def is_done(self):\n",
    "        \"\"\"Retorna True si no hay ningun agente vivo\"\"\"\n",
    "        return not any(agent.is_alive() for agent in self.agents)\n",
    "\n",
    "    def add_thing(self, thing, location=None):\n",
    "        \"\"\"Añade una cosa thing al entorno en la localizacion location. \n",
    "           Si thing es un programa de agente, crea un nuevo agente con ese programa.\"\"\"\n",
    "        if not isinstance(thing, Thing):\n",
    "            thing = Agent(thing)\n",
    "        assert thing not in self.things, \"No añade la misma cosa dos veces\"\n",
    "        thing.location = location if location is not None else self.default_location(thing)\n",
    "        self.things.append(thing)\n",
    "        if isinstance(thing, Agent):\n",
    "            thing.performance = 0\n",
    "            self.agents.append(thing)\n",
    "\n",
    "    def step(self):\n",
    "        \"\"\"Ejecuta un paso del entorno (llama a los programas de los agentes, obtiene sus acciones y las ejecuta). \"\"\"\n",
    "        if not self.is_done():\n",
    "            actions = []\n",
    "            for agent in self.agents:\n",
    "                if agent.alive:\n",
    "                    actions.append(agent.program(self.percept(agent)))\n",
    "                else:\n",
    "                    actions.append(\"\")\n",
    "            for (agent, action) in zip(self.agents, actions):\n",
    "                self.execute_action(agent, action)\n",
    "\n",
    "    def run(self, steps=1000):\n",
    "        \"\"\"Ejecuta steps pasos en el entorno.\"\"\"\n",
    "        for step in range(steps):\n",
    "            if self.is_done():\n",
    "                return\n",
    "            self.step()"
   ]
  },
  {
   "cell_type": "markdown",
   "metadata": {},
   "source": [
    "#### Clase <b>FourpuzzleEnvironment</b>\n",
    "\n",
    "Esta clase implementa el entorno específico del 4-puzzle. Un agente en este entorno percibe el estado del entorno, el cual es representado por un string de 4 caracteres: los dos primeros caracteres representan las posiciones de arriba y los dos ultimos caracteres las posiciones de abajo. El caracter * representa la posición en blanco. Falta implementar execute_action()"
   ]
  },
  {
   "cell_type": "code",
   "execution_count": null,
   "metadata": {},
   "outputs": [],
   "source": [
    "class FourpuzzleEnvironment(Environment):\n",
    "\n",
    "    def __init__(self, initial_state):\n",
    "        super().__init__()\n",
    "        self.status = initial_state\n",
    "        \n",
    "    def thing_classes(self):\n",
    "        return [FourpuzzleReflexAgent]\n",
    "\n",
    "    def percept(self, agent):\n",
    "        \"\"\"Retorna el estado del ambiente (las piezas que estan en cada posicion)\"\"\"\n",
    "        return self.status\n",
    "\n",
    "    def execute_action(self, agent, action):\n",
    "        \"\"\"Implementa el MAPA De TRANSICION: Cambia la posicion de las piezas de acuerdo a la accion solicitada del blanco; \n",
    "        Cada accion valida provoca una disminución de desempeño en 1 unidad \"\"\"\n",
    "        \n",
    "        state = list(self.status)\n",
    "        iblank = state.index('*')    # obtiene el indice del casillero en blanco (representado con *)\n",
    "        \n",
    "        if action == 'Right':\n",
    "            if (iblank%2 == 0):    # si la posicion del blanco esta en la izquierda (indice par) -> intercambia con la derecha\n",
    "                state[iblank], state[iblank+1] = state[iblank+1], state[iblank]\n",
    "                agent.performance -= 1\n",
    "        elif action == 'Left':\n",
    "            if (iblank%2 != 0):    # si la posicion del blanco esta en la derecha (indice impar) -> intercambia con la izquierda\n",
    "                state[iblank-1], state[iblank] = state[iblank], state[iblank-1]\n",
    "                agent.performance -= 1\n",
    "        elif action == 'Up':\n",
    "            if (iblank > 1):    # si la posicion del blanco esta abajo (indice > 1) -> intercambia con el de arriba\n",
    "                state[iblank-2], state[iblank] = state[iblank], state[iblank-2]\n",
    "                agent.performance -= 1\n",
    "        elif action == 'Down':\n",
    "            if (iblank <= 1):    # si la posicion del blanco esta arriba (indice <=1) -> intercambia con el de abajo\n",
    "                state[iblank], state[iblank+2] = state[iblank+2], state[iblank]\n",
    "                agent.performance -= 1    \n",
    "                \n",
    "        self.status = ''.join(state) \n",
    "  "
   ]
  },
  {
   "cell_type": "markdown",
   "metadata": {},
   "source": [
    "# Implementacion del Problema de Busqueda y Algoritmos de Busqueda\n"
   ]
  },
  {
   "cell_type": "markdown",
   "metadata": {},
   "source": [
    "#### Clase <b>SearchProblem</b>\n",
    "\n",
    "Esta es una clase abstracta para definir problemas de busqueda. Se debe hacer subclases que implementen los metodos de las acciones, resultados, test de objetivo y el costo de camino. Entonces se puede instanciar las subclases y resolverlos con varias funciones de busqueda.\n"
   ]
  },
  {
   "cell_type": "code",
   "execution_count": null,
   "metadata": {},
   "outputs": [],
   "source": [
    "class SearchProblem(object):\n",
    "    def __init__(self, initial, goal=None):\n",
    "        \"\"\"Este constructor especifica el estado inicial y posiblemente el estado(s) objetivo(s),\n",
    "        La subclase puede añadir mas argumentos.\"\"\"\n",
    "        self.initial = initial\n",
    "        self.goal = goal\n",
    "\n",
    "    def actions(self, state):\n",
    "        \"\"\"Retorna las acciones que pueden ser ejecutadas en el estado dado.\n",
    "        El resultado es tipicamente una lista.\"\"\"\n",
    "        raise NotImplementedError\n",
    "\n",
    "    def result(self, state, action):\n",
    "        \"\"\"Retorna el estado que resulta de ejecutar la accion dada en el estado state (Modelo de transicion).\n",
    "        La accion debe ser alguna de self.actions(state).\"\"\"\n",
    "        raise NotImplementedError\n",
    "\n",
    "    def goal_test(self, state):\n",
    "        \"\"\"Retorna True si el estado pasado satisface el objetivo.\"\"\"\n",
    "        raise NotImplementedError\n",
    "\n",
    "    def path_cost(self, c, state1, action, state2):\n",
    "        \"\"\"Retorna el costo del camino de state2 viniendo de state1 con \n",
    "        la accion action, asumiendo un costo c para llegar hasta state1. \n",
    "        El metodo por defecto cuesta 1 para cada paso en el camino.\"\"\"\n",
    "        return c + 1\n",
    "\n",
    "    def value(self, state):\n",
    "        \"\"\"En problemas de optimizacion, cada estado tiene un valor. Algoritmos\n",
    "        como Hill-climbing intentan maximizar este valor.\"\"\"\n",
    "        raise NotImplementedError"
   ]
  },
  {
   "cell_type": "markdown",
   "metadata": {},
   "source": [
    "#### <b> Clase FourpuzzleSearchProblem </b>  \n",
    "Esta es una subclase de SearchProblem donde se define el problema de busqueda especifico para el ambiente del 4-puzzle. "
   ]
  },
  {
   "cell_type": "code",
   "execution_count": null,
   "metadata": {},
   "outputs": [],
   "source": [
    "class FourpuzzleSearchProblem(SearchProblem):\n",
    "\n",
    "    def actions(self, state):\n",
    "        \"\"\"Retorna las acciones ejecutables desde el estado state.\n",
    "        Por ejemplo, para el estado '32*1' debe retornar: acciones = ['Up', 'Right']\"\"\"\n",
    "        acciones = []\n",
    "\n",
    "        iblank = state.index('*')    # obtiene el indice del casillero en blanco (representado con *) del estado\n",
    "        if iblank == 0:\n",
    "            acciones = ['Right','Down']\n",
    "        if iblank == 1:\n",
    "            acciones = ['Left','Down']\n",
    "        if iblank == 2:\n",
    "            acciones = ['Right','Up']\n",
    "        if iblank == 3:\n",
    "            acciones = ['Left','Up']\n",
    "        \n",
    "        return acciones\n",
    "\n",
    "    def result(self, state, action):\n",
    "        \"\"\"Retorna el estado que resulta de ejecutar la accion action desde state.\n",
    "        La accion debe ser alguna de self.actions(state)\n",
    "        Por ejemplo, para  state='32*1' y action='Up' debe retornar newState = '*231' \"\"\"  \n",
    "        \n",
    "        iblank = state.index('*')    # obtiene el indice del casillero en blanco (representado con *) del estado\n",
    "        newState = list(state)          # copia state en una lista newState\n",
    "        \n",
    "        if action == 'Right':\n",
    "            if (iblank%2 == 0):    # si la posicion del blanco esta en la izquierda (indice par) -> intercambia con la derecha\n",
    "                newState[iblank], newState[iblank+1] = newState[iblank+1], newState[iblank]\n",
    "        elif action == 'Left':\n",
    "            if (iblank%2 != 0):    # si la posicion del blanco esta en la derecha (indice impar) -> intercambia con la izquierda\n",
    "                newState[iblank-1], newState[iblank] = newState[iblank], newState[iblank-1]\n",
    "        elif action == 'Up':\n",
    "            if (iblank > 1):    # si la posicion del blanco esta abajo (indice > 1) -> intercambia con el de arriba\n",
    "                newState[iblank-2], newState[iblank] = newState[iblank], newState[iblank-2]\n",
    "        elif action == 'Down':\n",
    "            if (iblank <= 1):    # si la posicion del blanco esta arriba (indice <=1) -> intercambia con el de abajo\n",
    "                newState[iblank], newState[iblank+2] = newState[iblank+2], newState[iblank]\n",
    "\n",
    "        return ''.join(newState)\n",
    "        \n",
    "    def goal_test(self, state):\n",
    "        \"\"\"Retorna True si state es self.goal\"\"\"\n",
    "        return (self.goal == state) \n",
    "\n",
    "    def path_cost(self, c, state1, action, state2):\n",
    "        \"\"\"Retorna el costo del camino de state2 viniendo de state1 con la accion action \n",
    "        El costo del camino para llegar a state1 es c. El costo de la accion es = 1\"\"\"\n",
    "        return c + 1;"
   ]
  },
  {
   "cell_type": "markdown",
   "metadata": {},
   "source": [
    "#### Clase <b>Node</b>\n",
    "\n",
    "Estructura de datos para almacenar la informacion de un nodo en un <b>arbol de busqueda</b>. Contiene información del nodo padre y el estado que representa el nodo. Tambien incluye la accion que nos llevo al presente nodo y el costo total del camino desde el nodo raiz hasta este nodo."
   ]
  },
  {
   "cell_type": "code",
   "execution_count": null,
   "metadata": {},
   "outputs": [],
   "source": [
    "class Node:\n",
    "\n",
    "    def __init__(self, state, parent=None, action=None, path_cost=0):\n",
    "        \"Crea un nodo de arbol de busqueda, derivado del nodo parent y accion action\"\n",
    "        self.state = state\n",
    "        self.parent = parent\n",
    "        self.action = action\n",
    "        self.path_cost = path_cost\n",
    "        self.depth = 0\n",
    "        if parent:\n",
    "            self.depth = parent.depth + 1\n",
    "\n",
    "    def expand(self, problem):\n",
    "        \"Devuelve los nodos alcanzables en un paso a partir de este nodo.\"\n",
    "        return [self.child_node(problem, action)\n",
    "                for action in problem.actions(self.state)]\n",
    "\n",
    "    def child_node(self, problem, action):\n",
    "        next_state = problem.result(self.state, action)\n",
    "        return Node(next_state, self, action,\n",
    "                    problem.path_cost(self.path_cost, self.state, action, next_state))\n",
    "\n",
    "    def solution(self):\n",
    "        \"Retorna la secuencia de acciones para ir de la raiz a este nodo.\"\n",
    "        return [node.action for node in self.path()[1:]]\n",
    "\n",
    "    def path(self):\n",
    "        \"Retorna una lista de nodos formando un camino de la raiz a este nodo.\"\n",
    "        node, path_back = self, []\n",
    "        while node:\n",
    "            path_back.append(node)\n",
    "            node = node.parent\n",
    "        return list(reversed(path_back))"
   ]
  },
  {
   "cell_type": "markdown",
   "metadata": {},
   "source": [
    "#### Clase <b>FIFOQueue</b> \n",
    "Define la clase que implementa una cola tipo FIFO First-In-First-Out (para BFS)"
   ]
  },
  {
   "cell_type": "code",
   "execution_count": null,
   "metadata": {},
   "outputs": [],
   "source": [
    "from collections import deque\n",
    "\n",
    "class FIFOQueue(deque):\n",
    "    \"\"\"Una cola First-In-First-Out\"\"\"\n",
    "    def pop(self):\n",
    "        return self.popleft()"
   ]
  },
  {
   "cell_type": "markdown",
   "metadata": {},
   "source": [
    "#### <b>Algoritmo general de búsqueda con memoria de estados visitados (Graph Search)</b>\n",
    "\n",
    "Busca en los sucesores de un problema para encontrar un objetivo. El argumento frontier debe ser una cola vacia. Si dos caminos arrivan al mismo estado, solo usa el primero."
   ]
  },
  {
   "cell_type": "code",
   "execution_count": null,
   "metadata": {},
   "outputs": [],
   "source": [
    "def graph_search(problem, frontier):\n",
    "\n",
    "    frontier.append(Node(problem.initial))\n",
    "    explored = set()\n",
    "    while frontier:\n",
    "        node = frontier.pop()\n",
    "        if problem.goal_test(node.state):\n",
    "            return node\n",
    "        explored.add(node.state)\n",
    "        frontier.extend(child for child in node.expand(problem)\n",
    "                        if child.state not in explored and\n",
    "                        child not in frontier)\n",
    "    return None"
   ]
  },
  {
   "cell_type": "markdown",
   "metadata": {},
   "source": [
    "# Implementacion del Agente de Resolucion del Problema 4-puzzle\n"
   ]
  },
  {
   "cell_type": "markdown",
   "metadata": {},
   "source": [
    "#### Clase <b>Agent</b>\n",
    "\n",
    "Un agente es una subclase de Thing con un slot obligatorio: <b>.program</b>, el cual almacena la funcion que implementa el <b>programa del agente</b>. Esta funcion debe tomar como argumento la <b>percepcion</b> del agente y debe retornar una <b>accion</b>. La definicion de Percepcion y Accion depende del ambiente de trabajo (environment) donde el agente existe. El agente tambien puede tener el slot <b>.performance</b>, que mide el desempeño del agente en su ambiente."
   ]
  },
  {
   "cell_type": "code",
   "execution_count": null,
   "metadata": {},
   "outputs": [],
   "source": [
    "import collections\n",
    "import random\n",
    "\n",
    "class Agent(Thing):\n",
    "    def __init__(self, program=None):\n",
    "        self.alive = True\n",
    "        self.performance = 0\n",
    "        assert isinstance(program, collections.Callable)\n",
    "        self.program = program"
   ]
  },
  {
   "cell_type": "markdown",
   "metadata": {},
   "source": [
    "#### <b>Clase FourpuzzleSearch </b> \n",
    "Esta clase implementa el programa del agente que planea y ejecuta una solucion en el entorno 4-puzzle"
   ]
  },
  {
   "cell_type": "code",
   "execution_count": null,
   "metadata": {},
   "outputs": [],
   "source": [
    "class FourpuzzleSearchProgram:\n",
    "    def __init__(self, goal_state, search_method):\n",
    "        self.goal = goal_state\n",
    "        self.method = search_method\n",
    "        self.seq = []  # lista de acciones a ejecutar, inicialmente vacia\n",
    "        \n",
    "    def __call__(self, percept):\n",
    "        state = percept\n",
    "        if state == self.goal:    # Si el ambiente esta en el estado objetivo no hace nada\n",
    "            return 'None'\n",
    "        if not self.seq:  # si la lista de acciones esta vacia\n",
    "            search_problem = FourpuzzleSearchProblem(state, self.goal)\n",
    "            if self.method == 'bfs':\n",
    "                goal_node = graph_search(search_problem, FIFOQueue()) # frontera es una cola FIFO \n",
    "            elif self.method == 'dfs':\n",
    "                goal_node = graph_search(search_problem, []) # frontera es una pila ([] es una pila en Python)\n",
    "            else:\n",
    "                raise NotImplementedError\n",
    "                        \n",
    "            if goal_node == None: # sin solucion\n",
    "                print('No se encontro solucion para el 4-puzzle con metodo {}'.format(self.method) )\n",
    "                return 'None'\n",
    "            \n",
    "            self.seq = goal_node.solution()\n",
    "            print( 'Agente encontro una solucion al Problema de Busqueda 4-puzzle con {}: {}'.format(self.method, self.seq) )\n",
    "        \n",
    "        action = self.seq.pop(0)       \n",
    "        return action \n"
   ]
  },
  {
   "cell_type": "markdown",
   "metadata": {},
   "source": [
    "# Probando el agente en 4-puzzle"
   ]
  },
  {
   "cell_type": "code",
   "execution_count": null,
   "metadata": {},
   "outputs": [],
   "source": [
    "\"\"\"Crea un entorno del 4-puzzle con estado inicial '321*' \"\"\"\n",
    "e = FourpuzzleEnvironment('32*1')\n",
    "\n",
    "# Imprime el estado inicial del ambiente\n",
    "print(\"Estado Inicial del Ambiente: {}\".format(e.status))"
   ]
  },
  {
   "cell_type": "code",
   "execution_count": null,
   "metadata": {},
   "outputs": [],
   "source": [
    "\"\"\"Crea un agente de busqueda con estado objetivo '*123' y lo añade al entorno \"\"\"\n",
    "a = Agent( FourpuzzleSearchProgram ('*123', 'bfs') ) \n",
    "\n",
    "\"\"\"Añade el agente creado al entorno 4-puzzle\"\"\"\n",
    "e.add_thing(a) "
   ]
  },
  {
   "cell_type": "code",
   "execution_count": null,
   "metadata": {},
   "outputs": [],
   "source": [
    "# Ejecuta 10 pasos del ambiente y obtiene el desempeño del agente\n",
    "e.run(10)\n",
    "\n",
    "# Imprime el estado actual del ambiente, y desempeño del agente\n",
    "print(\"Estado del Ambiente despues de 10 pasos: {}\".format(e.status))\n",
    "print(\"FourpuzzleSearchAgent con desempeño = {}\".format(a.performance))"
   ]
  },
  {
   "cell_type": "markdown",
   "metadata": {},
   "source": [
    "# Preguntas:\n",
    "\n",
    "\n",
    "1) <b>Ejecute BFS y DFS para los siguientes problemas:</b>\n",
    "\n",
    "   - estado inicial = '\\*231', estado objetivo = '\\*123'\n",
    "   - estado inicial = '3\\*12', estado objetivo = '\\*123'\n",
    "   \n",
    "   ¿Hay diferencias en los costos de las soluciones entre BFS y DFS? Explique Por qué y cual seria el método mas adecuado para este problema \n",
    "\n",
    "2) <b> ¿Todos los estados serán alcanzables en 4-puzzle?</b> verifique con el siguiente problema\n",
    "   - estado inicial = '231\\*', estado objetivo = '\\*123'\n",
    "   \n",
    "   Intente dar una expliación de lo que esta sucediendo (talvez alguna particularidad del espacio de estados)\n",
    "\n"
   ]
  },
  {
   "cell_type": "code",
   "execution_count": null,
   "metadata": {},
   "outputs": [],
   "source": []
  }
 ],
 "metadata": {
  "kernelspec": {
   "display_name": "Python 3",
   "language": "python",
   "name": "python3"
  },
  "language_info": {
   "codemirror_mode": {
    "name": "ipython",
    "version": 3
   },
   "file_extension": ".py",
   "mimetype": "text/x-python",
   "name": "python",
   "nbconvert_exporter": "python",
   "pygments_lexer": "ipython3",
   "version": "3.8.6"
  }
 },
 "nbformat": 4,
 "nbformat_minor": 4
}
