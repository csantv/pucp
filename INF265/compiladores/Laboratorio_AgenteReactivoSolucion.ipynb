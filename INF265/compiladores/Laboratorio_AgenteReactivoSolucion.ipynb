{
 "cells": [
  {
   "cell_type": "markdown",
   "metadata": {},
   "source": [
    "# APLICACIONES EN CIENCIAS DE COMPUTACION (INF265)¶\n",
    "Dr. Edwin Villanueva Talavera (ervillanueva@pucp.edu.pe)"
   ]
  },
  {
   "cell_type": "markdown",
   "metadata": {},
   "source": [
    "## Laboratorio: Agente \"Aspirador de 4 posiciones\"\n",
    "\n",
    "Al finalizar el presente laboratorio se debe tener implementado el entorno de trabajo del agente aspirador de 4 posiciones y un programa reflexivo simple para dicho agente. Las posiciones del entorno son denotadas como loc_A, loc_B, loc_C y loc_D, cada una de estas posiciones puede tener el estado 'Dirty' o 'Clean'.  Al final del notebook deberas responder a las preguntas planteadas.\n",
    "\n",
    "![VacuumEnvironment](VacuumEnvironment_2x2.png)\n"
   ]
  },
  {
   "cell_type": "markdown",
   "metadata": {},
   "source": [
    "# Implementacion del Entorno  \n",
    "\n"
   ]
  },
  {
   "cell_type": "markdown",
   "metadata": {},
   "source": [
    "#### <b>Clase Thing:</b> \n",
    "Esta clase generica representa cualquier objeto fisico que puede aparecer en un <b>Ambiente</b>. (No editar)  "
   ]
  },
  {
   "cell_type": "code",
   "execution_count": 1,
   "metadata": {},
   "outputs": [],
   "source": [
    "class Thing(object):\n",
    "\n",
    "    def is_alive(self):\n",
    "        \"\"\"Cosas 'vivas'deben retornar true.\"\"\"\n",
    "        return hasattr(self, 'alive') and self.alive\n",
    "\n",
    "    def show_state(self):\n",
    "        \"\"\"Muestra el estado interno del agente. Subclases deben sobreescribir esto.\"\"\"\n",
    "        print(\"I don't know how to show_state.\")"
   ]
  },
  {
   "cell_type": "markdown",
   "metadata": {},
   "source": [
    "#### <b>Clase Environment:</b>  \n",
    "Esta es la clase que implementa un entorno generico</b>. Clases de entornos reales heredan de esta. En un entorno tipicamente se necesitará implementar 2 cosas:\n",
    "<b>percept</b>, que define la percepción que el agente ve; y \n",
    "<b>execute_action</b>, que define los efectos de ejecutar una acción. \n",
    "El entorno mantiene una lista de .things y .agents (el cual es un subconjunto de .things). Cada elemento de .things tiene un slot .location. (No editar)"
   ]
  },
  {
   "cell_type": "code",
   "execution_count": 2,
   "metadata": {},
   "outputs": [],
   "source": [
    "class Environment(object):\n",
    "\n",
    "    def __init__(self):\n",
    "        self.things = []\n",
    "        self.agents = []\n",
    "\n",
    "    def thing_classes(self):\n",
    "        return []  # List of classes that can go into environment\n",
    "\n",
    "    def percept(self, agent):\n",
    "        \"\"\"Retorna la percepcion que el agente 'agent' ve en este punto.\"\"\"\n",
    "        raise NotImplementedError\n",
    "\n",
    "    def execute_action(self, agent, action):\n",
    "        \"\"\"El agente 'agent' ejecuta una accion 'action' en el entorno.\"\"\"\n",
    "        raise NotImplementedError\n",
    "\n",
    "    def default_location(self, thing):\n",
    "        \"\"\"Localización por defecto para colocar una nueva cosa sin localizacion especificada.\"\"\"\n",
    "        return None\n",
    "\n",
    "    def is_done(self):\n",
    "        \"\"\"Retorna True si no hay ningun agente vivo\"\"\"\n",
    "        return not any(agent.is_alive() for agent in self.agents)\n",
    "\n",
    "    def add_thing(self, thing, location=None):\n",
    "        \"\"\"Añade una cosa thing al entorno en la localizacion location. \n",
    "           Si thing es un programa de agente, crea un nuevo agente con ese programa.\"\"\"\n",
    "        if not isinstance(thing, Thing):\n",
    "            thing = Agent(thing)\n",
    "        assert thing not in self.things, \"No añade la misma cosa dos veces\"\n",
    "        thing.location = location if location is not None else self.default_location(thing)\n",
    "        self.things.append(thing)\n",
    "        if isinstance(thing, Agent):\n",
    "            thing.performance = 0\n",
    "            self.agents.append(thing)\n",
    "\n",
    "    def step(self):\n",
    "        \"\"\"Ejecuta un paso del entorno (llama a los programas de los agentes, obtiene sus acciones y las ejecuta). \"\"\"\n",
    "        if not self.is_done():\n",
    "            actions = []\n",
    "            for agent in self.agents:\n",
    "                if agent.alive:\n",
    "                    actions.append(agent.program(self.percept(agent)))\n",
    "                else:\n",
    "                    actions.append(\"\")\n",
    "            for (agent, action) in zip(self.agents, actions):\n",
    "                self.execute_action(agent, action)\n",
    "\n",
    "    def run(self, steps=1000):\n",
    "        \"\"\"Ejecuta steps pasos en el entorno.\"\"\"\n",
    "        for step in range(steps):\n",
    "            if self.is_done():\n",
    "                return\n",
    "            self.step()"
   ]
  },
  {
   "cell_type": "markdown",
   "metadata": {},
   "source": [
    "#### Clase <b>VacuumEnvironment</b>\n",
    "\n",
    "Esta clase implementa el entorno del aspirador de 4 posiciones: loc_A, loc_B, loc_C y loc_D. Cada una de estas posiciones puede tener el estado 'Dirty' o 'Clean'. Un agente en este entorno percibe su localizacion y el estado de la misma"
   ]
  },
  {
   "cell_type": "code",
   "execution_count": 3,
   "metadata": {},
   "outputs": [],
   "source": [
    "loc_A, loc_B, loc_C, loc_D = (0, 0), (1, 0), (0, 1), (1, 1)   # The 4 locations for the Vacuum world\n",
    "\n",
    "class VacuumEnvironment(Environment):\n",
    "\n",
    "    def __init__(self):\n",
    "        super().__init__()\n",
    "        self.status = {loc_A: random.choice(['Clean', 'Dirty']),\n",
    "                       loc_B: random.choice(['Clean', 'Dirty']),\n",
    "                       loc_C: random.choice(['Clean', 'Dirty']),\n",
    "                       loc_D: random.choice(['Clean', 'Dirty'])}\n",
    "\n",
    "    def thing_classes(self):\n",
    "        return [ReflexVacuumAgent]\n",
    "\n",
    "    def percept(self, agent):\n",
    "        \"\"\"Retorna la posicion del agente y el estado de la posicion (Dirty/Clean).\"\"\"\n",
    "        return (agent.location, self.status[agent.location])\n",
    "\n",
    "    def execute_action(self, agent, action):\n",
    "        \"\"\"Implementa el MAPA De TRANSICION: Cambia la posicion del agente y/o el estado de la posicion; \n",
    "        Cada aspiracion (accion 'suck') en una localizacion Dirty provoca un aumento de desempeño en 10 unidades;\n",
    "        Cada movida efectiva Right, Left, Up o Down provoca una disminución de desempeño en 1 unidad \"\"\"\n",
    "        \n",
    "        if action == 'Right':\n",
    "            if agent.location == loc_A:\n",
    "                agent.location = loc_B\n",
    "                agent.performance -= 1\n",
    "            elif agent.location == loc_C:\n",
    "                agent.location = loc_D\n",
    "                agent.performance -= 1\n",
    "        elif action == 'Left':\n",
    "            if agent.location == loc_B:\n",
    "                agent.location = loc_A\n",
    "                agent.performance -= 1\n",
    "            elif agent.location == loc_D:\n",
    "                agent.location = loc_C\n",
    "                agent.performance -= 1\n",
    "        if action == 'Up':\n",
    "            if agent.location == loc_C:\n",
    "                agent.location = loc_A\n",
    "                agent.performance -= 1\n",
    "            elif agent.location == loc_D:\n",
    "                agent.location = loc_B\n",
    "                agent.performance -= 1\n",
    "        elif action == 'Down':\n",
    "            if agent.location == loc_A:\n",
    "                agent.location = loc_C\n",
    "                agent.performance -= 1\n",
    "            elif agent.location == loc_B:\n",
    "                agent.location = loc_D\n",
    "                agent.performance -= 1\n",
    "        elif action == 'Suck':\n",
    "            self.status[agent.location] = 'Clean'\n",
    "            agent.performance += 10\n",
    "\n",
    "    def default_location(self, thing):\n",
    "        \"\"\"Devuelve una posicion aleatoria.\"\"\"\n",
    "        return random.choice([loc_A, loc_B, loc_C, loc_D])"
   ]
  },
  {
   "cell_type": "markdown",
   "metadata": {},
   "source": [
    "\n",
    "# Implementacion del Agente\n",
    "\n"
   ]
  },
  {
   "cell_type": "markdown",
   "metadata": {},
   "source": [
    "#### Clase  Agent\n",
    "\n",
    "Un agente es una subclase de Thing con un slot obligatorio: <b>.program</b>, el cual almacena la funcion que implementa el <b>programa del agente</b>. Esta funcion debe tomar como argumento la <b>percepcion</b> del agente y debe retornar una <b>accion</b>. La definicion de Percepcion y Accion depende del ambiente de trabajo (environment) donde el agente existe. El agente tambien puede tener el slot <b>.performance</b>, que mide el desempeño del agente en su ambiente."
   ]
  },
  {
   "cell_type": "code",
   "execution_count": 4,
   "metadata": {},
   "outputs": [],
   "source": [
    "import collections\n",
    "import random\n",
    "\n",
    "class Agent(Thing):\n",
    "\n",
    "    def __init__(self, program=None):\n",
    "        self.alive = True\n",
    "        self.performance = 0\n",
    "        assert isinstance(program, collections.Callable)\n",
    "        self.program = program"
   ]
  },
  {
   "cell_type": "markdown",
   "metadata": {},
   "source": [
    "#### Programa Reactivo Simple para actuar en  el VacuumEnvironment\n",
    "\n",
    "Esta es la implementacion del programa de agente para el entorno del aspirador de cuatro posiciones. Es un programa reactivo simple que realiza una accion basado en la percepción actual  (posicion, estado)."
   ]
  },
  {
   "cell_type": "code",
   "execution_count": 5,
   "metadata": {},
   "outputs": [],
   "source": [
    "def ReflexVacuumAgent():\n",
    "    \n",
    "    def program(percept):\n",
    "        location, status = percept\n",
    "        if status == 'Dirty':\n",
    "            return 'Suck'\n",
    "        elif location == loc_A:\n",
    "            return 'Right'\n",
    "        elif location == loc_B:\n",
    "            return 'Down'\n",
    "        elif location == loc_C:\n",
    "            return 'Up'\n",
    "        elif location == loc_D:\n",
    "            return 'Left'\n",
    "    return Agent(program)"
   ]
  },
  {
   "cell_type": "markdown",
   "metadata": {},
   "source": [
    "# Probando el agente en VacuumEnvironment"
   ]
  },
  {
   "cell_type": "code",
   "execution_count": 6,
   "metadata": {},
   "outputs": [],
   "source": [
    "\"\"\"Crea el entorno del aspirador de 4 posiciones con 2 posiciones en estado 'Dirty'\"\"\"\n",
    "e = VacuumEnvironment()\n",
    "e.status = {loc_A: 'Clean',  loc_B: 'Dirty', loc_C: 'Dirty', loc_D: 'Clean'}"
   ]
  },
  {
   "cell_type": "code",
   "execution_count": 7,
   "metadata": {},
   "outputs": [
    {
     "name": "stderr",
     "output_type": "stream",
     "text": [
      "<ipython-input-4-ed4173719d6f>:9: DeprecationWarning: Using or importing the ABCs from 'collections' instead of from 'collections.abc' is deprecated since Python 3.3, and in 3.9 it will stop working\n",
      "  assert isinstance(program, collections.Callable)\n"
     ]
    }
   ],
   "source": [
    "\"\"\"Crea un agente reflexivo simple y lo añade al entorno en posicion loc_A\"\"\"\n",
    "a = ReflexVacuumAgent()\n",
    "e.add_thing(a, location=loc_A) "
   ]
  },
  {
   "cell_type": "code",
   "execution_count": 8,
   "metadata": {},
   "outputs": [
    {
     "name": "stdout",
     "output_type": "stream",
     "text": [
      "Estado Inicial del Ambiente: {(0, 0): 'Clean', (1, 0): 'Dirty', (0, 1): 'Dirty', (1, 1): 'Clean'}\n",
      "ReflexVacuumAgent esta localizado en (0, 0) con desempeño = 0\n"
     ]
    }
   ],
   "source": [
    "# Imprime el estado inicial del ambiente y localizacion del agente\n",
    "print(\"Estado Inicial del Ambiente: {}\".format(e.status))\n",
    "print(\"ReflexVacuumAgent esta localizado en {} con desempeño = {}\".format(a.location, a.performance))"
   ]
  },
  {
   "cell_type": "code",
   "execution_count": 9,
   "metadata": {},
   "outputs": [],
   "source": [
    "\"\"\"Ejecuta el entorno 6 pasos y obtiene el desempeño del agente\"\"\"\n",
    "e.run(5)"
   ]
  },
  {
   "cell_type": "code",
   "execution_count": 10,
   "metadata": {},
   "outputs": [
    {
     "name": "stdout",
     "output_type": "stream",
     "text": [
      "Estado del Ambiente despues de 5 pasos: {(0, 0): 'Clean', (1, 0): 'Clean', (0, 1): 'Clean', (1, 1): 'Clean'}\n",
      "ReflexVacuumAgent esta localizado en (0, 1) con desempeño = 17\n"
     ]
    }
   ],
   "source": [
    "# Imprime el estado actual del ambiente, localizacion del agente y su desempeño\n",
    "print(\"Estado del Ambiente despues de 5 pasos: {}\".format(e.status))\n",
    "print(\"ReflexVacuumAgent esta localizado en {} con desempeño = {}\".format(a.location, a.performance))"
   ]
  },
  {
   "cell_type": "markdown",
   "metadata": {},
   "source": [
    "# Preguntas:\n",
    "\n",
    "\n",
    "1) <b>El agente consigue limpiar su entorno en 5 pasos? Cuál es su valor de desempeño?<b>\n",
    "    \n",
    "    Sí con valor de desempeño = 17.\n",
    "    \n",
    "\n",
    "2) <b>Para qué medida de desempeño el agente está siendo racional?<b> \n",
    "    \n",
    "    Cantidad de suciedad aspirada\n",
    "    \n",
    "3) <b>Reimplemente el entorno para que entregue como percepcion sólo el estado de suciedad (no la ubicacion del agente). Proponga un programa de agente para que actue racionalmente con dicha percepción teniendo como medida de desempeño la cantidad de suciedad aspirada<b> \n"
   ]
  },
  {
   "cell_type": "code",
   "execution_count": 11,
   "metadata": {},
   "outputs": [],
   "source": [
    "class VacuumEnvironment(Environment):\n",
    "\n",
    "    def __init__(self):\n",
    "        super().__init__()\n",
    "        self.status = {loc_A: random.choice(['Clean', 'Dirty']),\n",
    "                       loc_B: random.choice(['Clean', 'Dirty']),\n",
    "                       loc_C: random.choice(['Clean', 'Dirty']),\n",
    "                       loc_D: random.choice(['Clean', 'Dirty'])}\n",
    "\n",
    "    def thing_classes(self):\n",
    "        return [ReflexVacuumAgent]\n",
    "\n",
    "    def percept(self, agent):\n",
    "        \"\"\"Retorna la posicion del agente y el estado de la posicion (Dirty/Clean).\"\"\"\n",
    "        return self.status[agent.location]\n",
    "\n",
    "    def execute_action(self, agent, action):\n",
    "        \"\"\"Implementa el MAPA De TRANSICION: Cambia la posicion del agente y/o el estado de la posicion; \n",
    "        Cada aspiracion (accion 'suck') en una localizacion Dirty provoca un aumento de desempeño en 10 unidades;\n",
    "        Cada movida efectiva Right, Left, Up o Down provoca una disminución de desempeño en 1 unidad \"\"\"\n",
    "        \n",
    "        if action == 'Right':\n",
    "            if agent.location == loc_A:\n",
    "                agent.location = loc_B\n",
    "                agent.performance -= 1\n",
    "            elif agent.location == loc_C:\n",
    "                agent.location = loc_D\n",
    "                agent.performance -= 1\n",
    "        elif action == 'Left':\n",
    "            if agent.location == loc_B:\n",
    "                agent.location = loc_A\n",
    "                agent.performance -= 1\n",
    "            elif agent.location == loc_D:\n",
    "                agent.location = loc_C\n",
    "                agent.performance -= 1\n",
    "        if action == 'Up':\n",
    "            if agent.location == loc_C:\n",
    "                agent.location = loc_A\n",
    "                agent.performance -= 1\n",
    "            elif agent.location == loc_D:\n",
    "                agent.location = loc_B\n",
    "                agent.performance -= 1\n",
    "        elif action == 'Down':\n",
    "            if agent.location == loc_A:\n",
    "                agent.location = loc_C\n",
    "                agent.performance -= 1\n",
    "            elif agent.location == loc_B:\n",
    "                agent.location = loc_D\n",
    "                agent.performance -= 1\n",
    "        elif action == 'Suck':\n",
    "            self.status[agent.location] = 'Clean'\n",
    "            agent.performance += 10\n",
    "\n",
    "    def default_location(self, thing):\n",
    "        \"\"\"Devuelve una posicion aleatoria.\"\"\"\n",
    "        return random.choice([loc_A, loc_B, loc_C, loc_D])"
   ]
  },
  {
   "cell_type": "code",
   "execution_count": 12,
   "metadata": {},
   "outputs": [],
   "source": [
    "def ReflexVacuumAgent():\n",
    "    \n",
    "    def program(percept):\n",
    "        status = percept\n",
    "        if status == 'Dirty':\n",
    "            return 'Suck'\n",
    "        else:\n",
    "            return random.choice(['Right', 'Left', 'Up', 'Down'])\n",
    "            \n",
    "    return Agent(program)"
   ]
  },
  {
   "cell_type": "code",
   "execution_count": 13,
   "metadata": {},
   "outputs": [
    {
     "name": "stdout",
     "output_type": "stream",
     "text": [
      "Estado Inicial del Ambiente: {(0, 0): 'Clean', (1, 0): 'Dirty', (0, 1): 'Dirty', (1, 1): 'Clean'}\n",
      "ReflexVacuumAgent esta localizado en (0, 0) con desempeño = 0\n"
     ]
    }
   ],
   "source": [
    "\"\"\"Crea el entorno del aspirador de 4 posiciones con 2 posiciones en estado 'Dirty'\"\"\"\n",
    "e = VacuumEnvironment()\n",
    "e.status = {loc_A: 'Clean',  loc_B: 'Dirty', loc_C: 'Dirty', loc_D: 'Clean'}\n",
    "\n",
    "\"\"\"Crea un agente reflexivo simple y lo añade al entorno en posicion loc_A\"\"\"\n",
    "a = ReflexVacuumAgent()\n",
    "e.add_thing(a, location=loc_A) \n",
    "\n",
    "# Imprime el estado inicial del ambiente y localizacion del agente\n",
    "print(\"Estado Inicial del Ambiente: {}\".format(e.status))\n",
    "print(\"ReflexVacuumAgent esta localizado en {} con desempeño = {}\".format(a.location, a.performance))"
   ]
  },
  {
   "cell_type": "code",
   "execution_count": 14,
   "metadata": {},
   "outputs": [
    {
     "name": "stdout",
     "output_type": "stream",
     "text": [
      "Estado del Ambiente despues de 5 pasos: {(0, 0): 'Clean', (1, 0): 'Dirty', (0, 1): 'Clean', (1, 1): 'Clean'}\n",
      "ReflexVacuumAgent esta localizado en (1, 0) con desempeño = 7\n"
     ]
    }
   ],
   "source": [
    "\"\"\"Ejecuta el entorno 6 pasos y obtiene el desempeño del agente\"\"\"\n",
    "e.run(5)\n",
    "# Imprime el estado actual del ambiente, localizacion del agente y su desempeño\n",
    "print(\"Estado del Ambiente despues de 5 pasos: {}\".format(e.status))\n",
    "print(\"ReflexVacuumAgent esta localizado en {} con desempeño = {}\".format(a.location, a.performance))"
   ]
  },
  {
   "cell_type": "code",
   "execution_count": null,
   "metadata": {},
   "outputs": [],
   "source": []
  }
 ],
 "metadata": {
  "kernelspec": {
   "display_name": "Python 3",
   "language": "python",
   "name": "python3"
  },
  "language_info": {
   "codemirror_mode": {
    "name": "ipython",
    "version": 3
   },
   "file_extension": ".py",
   "mimetype": "text/x-python",
   "name": "python",
   "nbconvert_exporter": "python",
   "pygments_lexer": "ipython3",
   "version": "3.8.6"
  }
 },
 "nbformat": 4,
 "nbformat_minor": 4
}
